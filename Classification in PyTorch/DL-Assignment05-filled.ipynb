{
 "cells": [
  {
   "cell_type": "markdown",
   "metadata": {
    "id": "6ESYQuuf5Bh8"
   },
   "source": [
    "Assignment 5: Classification in PyTorch\n",
    "=======================================\n",
    "\n",
    "\n",
    "Microsoft Forms Document: https://forms.office.com/r/4PAnYRs2Bf\n",
    "\n",
    "\n",
    "Task 1: Dataset Loading\n",
    "-----------------------\n",
    "\n",
    "We use two different datasets, the spambase dataset https://archive.ics.uci.edu/ml/datasets/spambase for binary classification and the wine dataset https://archive.ics.uci.edu/ml/datasets/wine for categorical classification.\n",
    "Both datasets are avaliable on the UCI Machine Learning repository.\n",
    "In the first dataset, the target values are stored in the first column, while the rest is input.\n",
    "For the second dataset, the target is stored in the last column, the rest is input.\n",
    "\n",
    "When running with pytorch, samples should be stored as datatype ``torch.tensor``, and split between input sets $\\mathbf X = [\\vec x^{[1]}, \\ldots, \\vec x^{[N]}]^T \\in \\mathbb R^{N\\times D}$ and targets.\n",
    "There is **no need** to add a bias neuron to the input, and the transposition of the data matrix is different from what we have seen before.\n",
    "\n",
    "For the targets, we have to be more careful as there are differences w.r.t. the applied loss function.\n",
    "For binary classification, we need $\\mathbf T = [[t^{[1]}, \\ldots, t^{[N]}]]$ to be in dimension $\\mathbb R^{N\\times1}$ and of type ``torch.float``.\n",
    "For categorical classification, we only need the class indexes $\\vec t = [t^{[1]}, \\ldots, t^{[N]}]$ to be in dimension $\\mathbb N^N$ and of type ``torch.long``."
   ]
  },
  {
   "cell_type": "code",
   "execution_count": 17,
   "metadata": {
    "id": "ig0dya5D5Bh-"
   },
   "outputs": [],
   "source": [
    "import os\n",
    "\n",
    "import torch\n",
    "\n",
    "# download the two dataset files\n",
    "dataset_files = {\n",
    "    \"spambase.data\": \"https://archive.ics.uci.edu/ml/machine-learning-databases/spambase/\",\n",
    "    \"wine.data\": \"https://archive.ics.uci.edu/ml/machine-learning-databases/wine/\",\n",
    "}\n",
    "for name, url in dataset_files.items():\n",
    "    if not os.path.exists(name):\n",
    "        import urllib.request\n",
    "\n",
    "        urllib.request.urlretrieve(url + name, name)\n",
    "        print(\"Downloaded datafile\", name)\n",
    "\n",
    "\n",
    "def dataset(dataset_file=\"wine.data\"):\n",
    "    # read dataset\n",
    "    data = []\n",
    "    with open(dataset_file, \"r\") as f:\n",
    "        for row in f:\n",
    "            row_val = [float(x) for x in row.split(\",\")]\n",
    "            data.append(row_val)\n",
    "\n",
    "    print(f\"Loaded dataset with {len(data)} samples\")\n",
    "\n",
    "    # convert to torch.tensor\n",
    "    data = torch.tensor(data)\n",
    "\n",
    "    if dataset_file == \"wine.data\":\n",
    "        # target is in the first column and needs to be converted to long\n",
    "        X = data[:, 1:]\n",
    "        T = torch.tensor(data[:, 0], dtype=torch.long) - 1\n",
    "    else:\n",
    "        # target is in the last column and needs to be of type float\n",
    "        X = data[:, :-1]\n",
    "        T = torch.tensor(data[:, -1:], dtype=torch.float32)\n",
    "\n",
    "    return X, T"
   ]
  },
  {
   "cell_type": "markdown",
   "metadata": {
    "id": "O7zvl8G_5Bh_"
   },
   "source": [
    "Test 1: Assert Valid Data\n",
    "-------------------------\n",
    "\n",
    "Load the wine dataset and make sure that the dataset is in the correct dimensions, i.e., $\\mathbf X\\in \\mathbb R^{N\\times D}$ and $\\mathbf T \\in \\mathbb N^N$.\n",
    "Also assure that all class labels are in the correct range $[0, O-1]$.\n",
    "\n",
    "Load the spambase data and assure that all dimensions are correct and that class labels are in range $\\{0, 1\\}$."
   ]
  },
  {
   "cell_type": "code",
   "execution_count": 56,
   "metadata": {
    "colab": {
     "base_uri": "https://localhost:8080/"
    },
    "id": "9_TZlEce5Bh_",
    "outputId": "9a4352e5-55a7-4a00-8a4e-8cc355779e4f"
   },
   "outputs": [
    {
     "name": "stdout",
     "output_type": "stream",
     "text": [
      "Loaded dataset with 4601 samples\n",
      "torch.Size([4601, 1])\n",
      "Loaded dataset with 178 samples\n",
      "torch.Size([178])\n"
     ]
    },
    {
     "name": "stderr",
     "output_type": "stream",
     "text": [
      "/var/folders/7q/s7f4w37x6n3dsccn6h968vdm0000gn/T/ipykernel_19057/2996667219.py:38: UserWarning: To copy construct from a tensor, it is recommended to use sourceTensor.clone().detach() or sourceTensor.clone().detach().requires_grad_(True), rather than torch.tensor(sourceTensor).\n",
      "  T = torch.tensor(data[:, -1:], dtype=torch.float32)\n",
      "/var/folders/7q/s7f4w37x6n3dsccn6h968vdm0000gn/T/ipykernel_19057/2996667219.py:34: UserWarning: To copy construct from a tensor, it is recommended to use sourceTensor.clone().detach() or sourceTensor.clone().detach().requires_grad_(True), rather than torch.tensor(sourceTensor).\n",
      "  T = torch.tensor(data[:, 0], dtype=torch.long) - 1\n"
     ]
    }
   ],
   "source": [
    "# load email data\n",
    "X, T = dataset(\"spambase.data\")\n",
    "# assert that everything is correct with the dataset\n",
    "assert X.shape == (4601, 57) and len(T) == 4601, \"Shapes are not matching\"\n",
    "assert max(T) <= 1 and min(T) >= 0, \"Some label out of range\"\n",
    "print(T.shape)\n",
    "\n",
    "# load wine data\n",
    "X, T = dataset(\"wine.data\")\n",
    "print(T.shape)\n",
    "# assert that everything is correct with the dataset\n",
    "assert X.shape == (178, 13) and len(T) == 178, \"Shapes are not matching\""
   ]
  },
  {
   "cell_type": "markdown",
   "metadata": {
    "id": "c1GYYA9q5Bh_"
   },
   "source": [
    "Task 2: Split Training and Validation Data\n",
    "------------------------------------------\n",
    "\n",
    "Write a function that splits off training and validation samples from a given dataset.\n",
    "Use randomly 80% of the data for training, and 20% for validation.\n",
    "\n",
    "What do we need to assure before splitting?\n"
   ]
  },
  {
   "cell_type": "code",
   "execution_count": 57,
   "metadata": {
    "id": "mVq7FbHg5BiA"
   },
   "outputs": [],
   "source": [
    "def split_training_data(X, T, train_percentage=0.8):\n",
    "    # split into 80/20 training/validation\n",
    "    perm2 = torch.randperm(X.shape[0])\n",
    "    train_indices = perm2[: int(train_percentage * X.shape[0])]\n",
    "    val_indices = perm2[int(train_percentage * X.shape[0]) :]\n",
    "\n",
    "    X_train = X[train_indices, :]\n",
    "    T_train = T[train_indices]\n",
    "    X_val = X[val_indices, :]\n",
    "    T_val = T[val_indices]\n",
    "\n",
    "    return X_train, T_train, X_val, T_val"
   ]
  },
  {
   "cell_type": "markdown",
   "metadata": {
    "id": "_Xg8U7Wp5BiA"
   },
   "source": [
    "Task 3: Input Data Standardization\n",
    "----------------------------------\n",
    "\n",
    "Implement a function that standardizes all input data for the training and validation set.\n",
    "Return the normalized data."
   ]
  },
  {
   "cell_type": "code",
   "execution_count": 58,
   "metadata": {
    "id": "Zs-UThQY5BiA"
   },
   "outputs": [],
   "source": [
    "def standardize(X_train, X_val):\n",
    "    # compute statistics\n",
    "    mean = torch.mean(X_train, axis=0)\n",
    "    std = torch.std(X_train, axis=0)\n",
    "\n",
    "    # standardize both X_train and X_val\n",
    "    X_train = (X_train - mean) / std\n",
    "    X_val = (X_val - mean) / std\n",
    "\n",
    "    return X_train, X_val"
   ]
  },
  {
   "cell_type": "markdown",
   "metadata": {
    "id": "RcVjAWEu5BiA"
   },
   "source": [
    "Task 4: Network Implementation\n",
    "------------------------------\n",
    "\n",
    "Implement a function that returns a two-layer fully-connected network in pytorch.\n",
    "Use tanh as activation function, and provide the possibility to change the number of inputs $D$, the number of hidden neurons $K$ and the number of outputs $O$."
   ]
  },
  {
   "cell_type": "code",
   "execution_count": 59,
   "metadata": {
    "id": "F5xyq57v5BiB"
   },
   "outputs": [],
   "source": [
    "import torch\n",
    "\n",
    "\n",
    "def Network(D, K, O):\n",
    "    return torch.nn.Sequential(\n",
    "        torch.nn.Linear(D, K), \n",
    "        torch.nn.Tanh(), \n",
    "        torch.nn.Linear(K, O)\n",
    "    )"
   ]
  },
  {
   "cell_type": "markdown",
   "metadata": {
    "id": "UUROOOw25BiB"
   },
   "source": [
    "Task 5: Accuracy Computation\n",
    "----------------------------\n",
    "\n",
    "Implement a function that computes the accuracy of the provided network output (the logits) and the given target values.\n",
    "Make sure that the implementation supports both binary as well as categorical targets."
   ]
  },
  {
   "cell_type": "code",
   "execution_count": 60,
   "metadata": {
    "id": "AOMK6K0A5BiB"
   },
   "outputs": [],
   "source": [
    "def accuracy(Z, T):\n",
    "    if len(torch.unique(T)) == 2:\n",
    "        # binary classification\n",
    "        return (Z >= 0.0).eq(T >= 0.5).sum() / T.numel()\n",
    "    else:\n",
    "        # categorical classification\n",
    "        return torch.mean((torch.argmax(Z, dim=1) == T).float())"
   ]
  },
  {
   "cell_type": "markdown",
   "metadata": {
    "id": "BE4Kfzwp5BiB"
   },
   "source": [
    "Test 2: Test Accuracy Function\n",
    "------------------------------\n",
    "\n",
    "Design test data and according logit values with which you can test the correctness of your accuracy function.\n",
    "Make sure that the accuracy will compute the correct values.\n",
    "Test both binary and categorical accuracy."
   ]
  },
  {
   "cell_type": "code",
   "execution_count": 61,
   "metadata": {
    "colab": {
     "base_uri": "https://localhost:8080/"
    },
    "id": "OJRu5fsf5BiC",
    "outputId": "accf1e92-87e1-4624-bafe-79f318e86b3b"
   },
   "outputs": [
    {
     "name": "stdout",
     "output_type": "stream",
     "text": [
      "tensor(0.7778)\n"
     ]
    },
    {
     "data": {
      "text/plain": [
       "tensor(0.3333)"
      ]
     },
     "execution_count": 61,
     "metadata": {},
     "output_type": "execute_result"
    }
   ],
   "source": [
    "# test binary classification\n",
    "# ... design test logits and target values\n",
    "Z = torch.tensor([0.5, -0.2, 0.4, 0.8, 0.2, -0.1, 0.9, 0.65, 0.01])\n",
    "T = torch.tensor([1, 0, 1, 1, 0, 0, 1, 1, 0])\n",
    "# ... test that the expected accuracy is computed\n",
    "print(accuracy(Z, T))\n",
    "\n",
    "# test categorical classification\n",
    "# ... design test logits and target values\n",
    "Z = torch.tensor([[0.1, 0.4, 0.5], [0.2, 0.6, 0.2], [0.3, 0.1, 0.6]])\n",
    "T = torch.tensor([[1, 0, 0], [0, 1, 0], [0, 0, 1]])\n",
    "# ... test that the expected accuracy is computed\n",
    "accuracy(Z, T)"
   ]
  },
  {
   "cell_type": "markdown",
   "metadata": {
    "id": "Pqa8rjT15BiC"
   },
   "source": [
    "Task 6: Training Loop\n",
    "---------------------\n",
    "\n",
    "Implement a function that takes all necessary parameters to run a training on a given dataset.\n",
    "In this week, we will make use of the whole dataset in each training step, so we will perform gradient descent (not SGD), so there is no need to define anything related to batches.\n",
    "\n",
    "For each epoch, compute the training set and the validation set accuracy, as well as their losses, and return all of them"
   ]
  },
  {
   "cell_type": "code",
   "execution_count": 102,
   "metadata": {
    "id": "GGN4dEdC5BiC"
   },
   "outputs": [],
   "source": [
    "def train(\n",
    "    X_train, T_train, X_val, T_val, learning_rate=0.01, momentums=0.9, epochs=10000\n",
    "):\n",
    "    print(network)\n",
    "    optimizer = torch.optim.SGD(\n",
    "        params= network.parameters(), lr=learning_rate, momentum=momentums\n",
    "    )\n",
    "\n",
    "    # collect loss and accuracy values\n",
    "    train_loss, train_acc, val_loss, val_acc = [], [], [], []\n",
    "\n",
    "    for epoch in range(epochs):\n",
    "        # train on training set\n",
    "        # ... compute network output on training data\n",
    "        optimizer.zero_grad()\n",
    "        # train on training set\n",
    "        # ... compute network output on training data\n",
    "        Z = network(X_train)\n",
    "        # ... compute loss from network output and target data\n",
    "        J = loss(Z, T_train)\n",
    "        J.backward()\n",
    "        # ... perform parameter update\n",
    "        optimizer.step()\n",
    "        # ... remember loss\n",
    "        train_loss.append(J.detach().numpy())\n",
    "        # ... compute training set accuracy\n",
    "        \n",
    "            # print(\"acc是否有梯度需求:\",accuracy(Z.detach(),T_train).requires_grad) => 取消了 Z之后, accuracy(...)没有梯度了\n",
    "            # print(\"T_val是否有梯度需求:\",T_val.requires_grad) => 不是经过 torch model 或 optim 计算的tensor没有梯度要求\n",
    "        train_acc.append(accuracy(Z, T_train).detach().numpy())\n",
    "\n",
    "        # test on validation data\n",
    "        with torch.no_grad():\n",
    "            # ... compute network output on validation data\n",
    "            Z = network(X_val)\n",
    "            # ... compute loss from network output and target data\n",
    "            J = loss(Z, T_val)\n",
    "            # ... remember loss\n",
    "            val_loss.append(J.detach().numpy())\n",
    "            # ... compute validation set accuracy\n",
    "            val_acc.append(accuracy(Z, T_val).detach().numpy())\n",
    "\n",
    "    # return the four lists of losses and accuracies\n",
    "    return train_loss, train_acc, val_loss, val_acc"
   ]
  },
  {
   "cell_type": "markdown",
   "metadata": {
    "id": "DUn-q9Eb5BiC"
   },
   "source": [
    "Task 7: Plotting Function\n",
    "-------------------------\n",
    "\n",
    "Implement a function that takes four lists containing the training loss, the training accuracy, the validation loss and the validation accuracy.\n",
    "Plot the two losses into one plot, and the two accuracies into another plot."
   ]
  },
  {
   "cell_type": "code",
   "execution_count": 103,
   "metadata": {
    "id": "bKm9DP4M5BiC"
   },
   "outputs": [],
   "source": [
    "from matplotlib import pyplot\n",
    "\n",
    "\n",
    "def plot(train_loss, train_acc, val_loss, val_acc):\n",
    "    pyplot.figure(figsize=(10, 3))\n",
    "    ax = pyplot.subplot(121)\n",
    "    ax.plot(train_loss, \"g-\", label=\"Training set loss\")\n",
    "    ax.plot(val_loss, \"b-\", label=\"Validation set loss\")\n",
    "    ax.legend()\n",
    "\n",
    "    ax = pyplot.subplot(122)\n",
    "    ax.plot(train_acc, \"g-\", label=\"Training set accuracy\")\n",
    "    ax.plot(val_acc, \"b-\", label=\"Validation set accuracy\")\n",
    "    ax.legend()"
   ]
  },
  {
   "cell_type": "markdown",
   "metadata": {
    "id": "UdHgnOG55BiD"
   },
   "source": [
    "Task 8: Binary Classification\n",
    "-----------------------------\n",
    "\n",
    "Load the data for binary classification, using the ``\"spambase.data\"`` file.\n",
    "Split the data into training and validation sets.\n",
    "Standardize both training and validation input data.\n",
    "\n",
    "Instantiate a network with the correct number of input neurons, a given number of $K$ hidden neurons and one output neuron.\n",
    "Instantiate the binary cross entropy loss function.\n",
    "\n",
    "Train the network with our data for 10'000 epochs and plot the training and validation accuracies and losses."
   ]
  },
  {
   "cell_type": "code",
   "execution_count": 105,
   "metadata": {
    "colab": {
     "base_uri": "https://localhost:8080/",
     "height": 265
    },
    "id": "ly5O16pl5BiD",
    "outputId": "a0f76700-c99e-4546-d2a9-451148d8e66a"
   },
   "outputs": [
    {
     "name": "stdout",
     "output_type": "stream",
     "text": [
      "Loaded dataset with 4601 samples\n",
      "Sequential(\n",
      "  (0): Linear(in_features=57, out_features=50, bias=True)\n",
      "  (1): Tanh()\n",
      "  (2): Linear(in_features=50, out_features=1, bias=True)\n",
      ")\n"
     ]
    },
    {
     "name": "stderr",
     "output_type": "stream",
     "text": [
      "/var/folders/7q/s7f4w37x6n3dsccn6h968vdm0000gn/T/ipykernel_19057/2996667219.py:38: UserWarning: To copy construct from a tensor, it is recommended to use sourceTensor.clone().detach() or sourceTensor.clone().detach().requires_grad_(True), rather than torch.tensor(sourceTensor).\n",
      "  T = torch.tensor(data[:, -1:], dtype=torch.float32)\n"
     ]
    },
    {
     "data": {
      "image/png": "[encoded data removed]",
      "text/plain": [
       "<Figure size 720x216 with 2 Axes>"
      ]
     },
     "metadata": {
      "needs_background": "light"
     },
     "output_type": "display_data"
    }
   ],
   "source": [
    "# define loss function\n",
    "loss = torch.nn.BCEWithLogitsLoss()\n",
    "# load dataset\n",
    "X, T = dataset(\"spambase.data\")\n",
    "# split dataset\n",
    "X_train, T_train, X_val, T_val = split_training_data(X, T, train_percentage=0.8)\n",
    "# standardize input data\n",
    "X_train, X_val = standardize(X_train, X_val)\n",
    "# instantiate network\n",
    "network = Network(D=X_train.shape[1], K=50, O=1)\n",
    "\n",
    "# train network on our data\n",
    "results = train(\n",
    "    X_train, T_train, X_val, T_val, learning_rate=0.01, momentums=0.9, epochs=10000\n",
    ")\n",
    "# plot the results\n",
    "plot(*results)"
   ]
  },
  {
   "cell_type": "markdown",
   "metadata": {
    "id": "cbuXAFcd5BiD"
   },
   "source": [
    "Task 9: Categorical Classification\n",
    "----------------------------------\n",
    "\n",
    "Perform the same tasks with the ``\"wine.data\"`` dataset.\n",
    "How many output neurons do we need?\n",
    "Which loss function will we need this time?\n",
    "\n",
    "How many hidden neurons will we need to get 100% training set accuracy?"
   ]
  },
  {
   "cell_type": "code",
   "execution_count": 47,
   "metadata": {
    "colab": {
     "base_uri": "https://localhost:8080/",
     "height": 265
    },
    "id": "9Zq9Wjtg5BiD",
    "outputId": "361629bb-c0dd-4f36-e4d0-d14e5dc91124"
   },
   "outputs": [
    {
     "name": "stdout",
     "output_type": "stream",
     "text": [
      "Loaded dataset with 178 samples\n"
     ]
    },
    {
     "name": "stderr",
     "output_type": "stream",
     "text": [
      "/var/folders/7q/s7f4w37x6n3dsccn6h968vdm0000gn/T/ipykernel_19057/2996667219.py:34: UserWarning: To copy construct from a tensor, it is recommended to use sourceTensor.clone().detach() or sourceTensor.clone().detach().requires_grad_(True), rather than torch.tensor(sourceTensor).\n",
      "  T = torch.tensor(data[:, 0], dtype=torch.long) - 1\n"
     ]
    },
    {
     "data": {
      "image/png": "[encoded data removed]",
      "text/plain": [
       "<Figure size 720x216 with 2 Axes>"
      ]
     },
     "metadata": {
      "needs_background": "light"
     },
     "output_type": "display_data"
    }
   ],
   "source": [
    "# define loss function\n",
    "loss = torch.nn.CrossEntropyLoss()\n",
    "# load dataset\n",
    "X, T = dataset(\"wine.data\")\n",
    "# split dataset\n",
    "X_train, T_train, X_val, T_val = split_training_data(X, T)\n",
    "T_train = T_train.flatten()\n",
    "T_val = T_val.flatten()\n",
    "# standardize input data\n",
    "X_train, X_val = standardize(X_train, X_val)\n",
    "# instantiate network\n",
    "D = X_train.shape[1]\n",
    "K = 10\n",
    "O = 3\n",
    "network = Network(D, K, O)\n",
    "\n",
    "# train network on our data\n",
    "results = train(\n",
    "    X_train, T_train, X_val, T_val, learning_rate=0.01, momentums=0.9, epochs=10000\n",
    ")\n",
    "\n",
    "train_loss = results[0]\n",
    "train_acc = results[1]\n",
    "val_loss = results[2]\n",
    "val_acc = results[3]\n",
    "\n",
    "# plot the results\n",
    "plot(train_loss, train_acc, val_loss, val_acc)"
   ]
  },
  {
   "cell_type": "code",
   "execution_count": null,
   "metadata": {},
   "outputs": [],
   "source": []
  }
 ],
 "metadata": {
  "colab": {
   "collapsed_sections": [],
   "name": "Assignment05.ipynb",
   "provenance": []
  },
  "interpreter": {
   "hash": "2dd53f8ad749bca69f7250ce75eb4f0def59db5cf79075a9716322ffc58e8a2e"
  },
  "kernelspec": {
   "display_name": "Python 3 (ipykernel)",
   "language": "python",
   "name": "python3"
  },
  "language_info": {
   "codemirror_mode": {
    "name": "ipython",
    "version": 3
   },
   "file_extension": ".py",
   "mimetype": "text/x-python",
   "name": "python",
   "nbconvert_exporter": "python",
   "pygments_lexer": "ipython3",
   "version": "3.8.5"
  }
 },
 "nbformat": 4,
 "nbformat_minor": 4
}
