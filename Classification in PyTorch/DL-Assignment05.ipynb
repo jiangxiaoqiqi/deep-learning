{
 "cells": [
  {
   "cell_type": "markdown",
   "metadata": {},
   "source": [
    "Assignment 5: Classification in PyTorch\n",
    "=======================================\n",
    "\n",
    "\n",
    "Microsoft Forms Document: https://forms.office.com/r/4PAnYRs2Bf\n",
    "\n",
    "\n",
    "Task 1: Dataset Loading\n",
    "-----------------------\n",
    "\n",
    "We use two different datasets, the spambase dataset https://archive.ics.uci.edu/ml/datasets/spambase for binary classification and the wine dataset https://archive.ics.uci.edu/ml/datasets/wine for categorical classification.\n",
    "Both datasets are avaliable on the UCI Machine Learning repository.\n",
    "In the first dataset, the target values are stored in the first column, while the rest is input.\n",
    "For the second dataset, the target is stored in the last column, the rest is input.\n",
    "\n",
    "我们使用两个不同的数据集，二进制分类的Spambase数据集https://archive.ics.uci.edu/ml/datasets/spambase，而分类的葡萄酒数据集https://archive.ics.uci.edu/ml/datasets/wine。\n",
    "这两个数据集都可以在UCI机器学习资源库中找到。\n",
    "在第一个数据集中，目标值被存储在第一列，而其余的是输入值。\n",
    "对于第二个数据集，目标值存储在最后一列，其余为输入值。\n",
    "\n",
    "When running with pytorch, samples should be stored as datatype ``torch.tensor``, and split between input sets $\\mathbf X = [\\vec x^{[1]}, \\ldots, \\vec x^{[N]}]^T \\in \\mathbb R^{N\\times D}$ and targets.\n",
    "There is **no need** to add a bias neuron to the input, and the transposition of the data matrix is different from what we have seen before.\n",
    "\n",
    "For the targets, we have to be more careful as there are differences w.r.t. the applied loss function.\n",
    "For binary classification, we need $\\mathbf T = [[t^{[1]}, \\ldots, t^{[N]}]]$ to be in dimension $\\mathbb R^{N\\times1}$ and of type ``torch.float``.\n",
    "For categorical classification, we only need the class indexes $\\vec t = [t^{[1]}, \\ldots, t^{[N]}]$ to be in dimension $\\mathbb N^N$ and of type ``torch.long``.\n",
    "\n",
    "当用pytorch运行时，样本应存储为数据类型torch.tensor，并在输入集𝐗=[𝑥⃗[1],...,𝑥⃗[𝑁]]𝑇∈ℝ×𝐷和目标之间分割。不需要在输入中加入偏置神经元，而且数据矩阵的转置与我们之前看到的不同。\n",
    "\n",
    "对于目标，我们必须更加小心，因为所应用的损失函数存在差异。对于二元分类，我们需要𝐓=[[𝑡[1],...,𝑡[𝑁]]的维度为ℝ𝑁×1，类型为Torch.float。对于多分类，我们只需要类索引𝑡⃗=[𝑡[1],...,𝑡[𝑁]]的维度为ℕ𝑁，类型为torch.long。"
   ]
  },
  {
   "cell_type": "markdown",
   "metadata": {},
   "source": [
    "<font color=\"#dd0000\">为什么 binary classification 要多一个维度呢？</font><br /> "
   ]
  },
  {
   "cell_type": "code",
   "execution_count": 1,
   "metadata": {},
   "outputs": [],
   "source": [
    "import os\n",
    "\n",
    "import torch\n",
    "\n",
    "# download the two dataset files\n",
    "dataset_files = {\n",
    "    \"spambase.data\": \"https://archive.ics.uci.edu/ml/machine-learning-databases/spambase/\",\n",
    "    \"wine.data\": \"https://archive.ics.uci.edu/ml/machine-learning-databases/wine/\",\n",
    "}\n",
    "for name, url in dataset_files.items():\n",
    "    if not os.path.exists(name):\n",
    "        # urllib.request - 打开和读取 URL。\n",
    "        import urllib.request\n",
    "\n",
    "        # 获取并存储数据集到本地\n",
    "        urllib.request.urlretrieve(url + name, name)\n",
    "        print(\"Downloaded datafile\", name)\n",
    "\n",
    "\n",
    "def dataset(dataset_file=\"wine.data\"):\n",
    "    # read dataset\n",
    "    data = []\n",
    "    with open(dataset_file, \"r\") as f:\n",
    "        for row in f:\n",
    "            x = [float(x) for x in row.split(\",\")]\n",
    "            data.append(x)\n",
    "\n",
    "    print(f\"Loaded dataset with {len(data)} samples\")\n",
    "\n",
    "    # convert to torch.tensor\n",
    "    data = torch.tensor(data)\n",
    "\n",
    "    if dataset_file == \"wine.data\":\n",
    "        # target is in the first column and needs to be converted to long\n",
    "        X = data[:, 1:]\n",
    "        T = data[:, 0].long() - 1  # 改变原有的 label 1,2,3 =>>> 0,1,2 ?\n",
    "    else:\n",
    "        # target is in the last column and needs to be of type float\n",
    "        X = data[:, :-1]\n",
    "        T = data[:, -1].float().unsqueeze(dim=1)  # dim =>>> 在shape的什么地方插入一个空的dim，也就是 1\n",
    "    return X, T"
   ]
  },
  {
   "cell_type": "markdown",
   "metadata": {},
   "source": [
    "Test 1: Assert Valid Data\n",
    "-------------------------\n",
    "\n",
    "Load the wine dataset and make sure that the dataset is in the correct dimensions, i.e., $\\mathbf X\\in \\mathbb R^{N\\times D}$ and $\\mathbf T \\in \\mathbb N^N$.\n",
    "Also assure that all class labels are in the correct range $[0, O-1]$.\n",
    "\n",
    "Load the spambase data and assure that all dimensions are correct and that class labels are in range $\\{0, 1\\}$."
   ]
  },
  {
   "cell_type": "code",
   "execution_count": 2,
   "metadata": {},
   "outputs": [
    {
     "name": "stdout",
     "output_type": "stream",
     "text": [
      "Loaded dataset with 4601 samples\n",
      "torch.Size([4601, 57])\n",
      "torch.Size([4601, 1])\n",
      "Loaded dataset with 178 samples\n",
      "torch.Size([178, 13])\n",
      "torch.Size([178])\n"
     ]
    }
   ],
   "source": [
    "# load email data\n",
    "X, T = dataset(\"spambase.data\")\n",
    "# assert that everything is correct with the dataset\n",
    "print(X.shape)\n",
    "print(T.shape)\n",
    "assert X.shape == (4601, 57)\n",
    "assert T.shape == (4601, 1)\n",
    "assert all(t >= 0 for t in T) and all(T <= 1)  ### 对于 tensor 或 np array这两种方法都可以\n",
    "\n",
    "# load wine data\n",
    "X, T = dataset(\"wine.data\")\n",
    "print(X.shape)\n",
    "print(T.shape)\n",
    "assert X.shape == (178, 13)\n",
    "assert T.shape == (178,)\n",
    "assert all(t == 0 or t == 1 or t == 2 for t in T)\n",
    "\n",
    "# assert that everything is correct with the dataset"
   ]
  },
  {
   "cell_type": "markdown",
   "metadata": {},
   "source": [
    "Task 2: Split Training and Validation Data\n",
    "------------------------------------------\n",
    "\n",
    "Write a function that splits off training and validation samples from a given dataset.\n",
    "Use randomly 80% of the data for training, and 20% for validation.\n",
    "\n",
    "What do we need to assure before splitting?\n"
   ]
  },
  {
   "cell_type": "code",
   "execution_count": 3,
   "metadata": {},
   "outputs": [],
   "source": [
    "def split_training_data(X, T, train_percentage=0.8):\n",
    "    # 注意要随机\n",
    "    # torch.randperm(n) Returns a random permutation of integers from 0 to n - 1.\n",
    "    idx_permutation = torch.randperm(X.shape[0])\n",
    "    train_idx = idx_permutation[: int(train_percentage * X.shape[0])]\n",
    "    val_idx = idx_permutation[int(train_percentage * X.shape[0]) :]\n",
    "\n",
    "    X_train = X[train_idx]\n",
    "    T_train = T[train_idx]\n",
    "    X_val = X[val_idx]\n",
    "    T_val = T[val_idx]\n",
    "\n",
    "    return X_train, T_train, X_val, T_val"
   ]
  },
  {
   "attachments": {
    "4604bd19-7908-4eb0-9e7f-459170a7b086.png": {
     "image/png": "[encoded data removed]"
    }
   },
   "cell_type": "markdown",
   "metadata": {},
   "source": [
    "Task 3: Input Data Standardization\n",
    "----------------------------------\n",
    "\n",
    "Implement a function that standardizes all input data for the training and validation set.\n",
    "Return the normalized data.\n",
    "![image.png](attachment:4604bd19-7908-4eb0-9e7f-459170a7b086.png)"
   ]
  },
  {
   "cell_type": "code",
   "execution_count": 4,
   "metadata": {},
   "outputs": [],
   "source": [
    "def standardize(X_train, X_val):\n",
    "    # compute statistics\n",
    "    mean = torch.mean(X_train, axis=0)  # 这里的 axis 很重要\n",
    "    std = torch.std(X_train, axis=0)\n",
    "\n",
    "    X_train = (X_train - mean) / std\n",
    "    X_val = (X_val - mean) / std\n",
    "\n",
    "    return X_train, X_val"
   ]
  },
  {
   "cell_type": "markdown",
   "metadata": {},
   "source": [
    "Task 4: Network Implementation\n",
    "------------------------------\n",
    "\n",
    "Implement a function that returns a two-layer fully-connected network in pytorch.\n",
    "Use tanh as activation function, and provide the possibility to change the number of inputs $D$, the number of hidden neurons $K$ and the number of outputs $O$."
   ]
  },
  {
   "cell_type": "code",
   "execution_count": 5,
   "metadata": {},
   "outputs": [],
   "source": [
    "# nn.Sequential 相当于创建了一个建议的小 model， 他按照顺序逐步自动向前传递，不用把前一个输出和后一个输入手动连上\n",
    "# https://pytorch.org/docs/stable/generated/torch.nn.Sequential.html\n",
    "\n",
    "\n",
    "def Network(D, K, O):\n",
    "    return torch.nn.Sequential(\n",
    "        torch.nn.Linear(D, K), torch.nn.Tanh(), torch.nn.Linear(K, O)  ### 这里不需要加参数 K\n",
    "    )"
   ]
  },
  {
   "cell_type": "markdown",
   "metadata": {},
   "source": [
    "Task 5: Accuracy Computation\n",
    "----------------------------\n",
    "\n",
    "Implement a function that computes the accuracy of the provided network output (the logits) and the given target values.\n",
    "Make sure that the implementation supports both binary as well as categorical targets."
   ]
  },
  {
   "cell_type": "code",
   "execution_count": 6,
   "metadata": {},
   "outputs": [],
   "source": [
    "def accuracy(Z, T):\n",
    "    # check if we have binary or categorical classification\n",
    "    if len(T.unique()) == 2:\n",
    "        \n",
    "        res = (torch.round(torch.sigmoid(Z)) == T).float().mean()\n",
    "\n",
    "        return res\n",
    "\n",
    "    else:\n",
    "        # Z =\n",
    "        # [[0.1, 0.6, 0.3],\n",
    "        #  [0.8, 0.1, 0.1]]\n",
    "        # T = 0 or 1 or 3\n",
    "\n",
    "        return (torch.argmax(Z, axis=1) == T).float().mean()"
   ]
  },
  {
   "cell_type": "markdown",
   "metadata": {},
   "source": [
    "Test 2: Test Accuracy Function\n",
    "------------------------------\n",
    "\n",
    "Design test data and according logit values with which you can test the correctness of your accuracy function.\n",
    "Make sure that the accuracy will compute the correct values.\n",
    "Test both binary and categorical accuracy."
   ]
  },
  {
   "cell_type": "code",
   "execution_count": 8,
   "metadata": {},
   "outputs": [
    {
     "name": "stdout",
     "output_type": "stream",
     "text": [
      "tensor([1, 0, 1, 1, 2])\n",
      "tensor([2, 0, 1, 2, 2])\n"
     ]
    }
   ],
   "source": [
    "# test binary classification\n",
    "# ... design test logits and target values\n",
    "Z = torch.tensor([3, 3, 3, -5, -5])\n",
    "T = torch.tensor([1, 1, 0, 0, 1])\n",
    "# ... test that the expected accuracy is computed\n",
    "assert accuracy(Z, T) == 0.6\n",
    "\n",
    "# test categorical classification\n",
    "# ... design test logits and target values\n",
    "Z = torch.tensor(\n",
    "    [\n",
    "        [0.1, 0.6, 0.3],  # 1\n",
    "        [0.8, 0.1, 0.1],  # 0\n",
    "        [0.1, 0.9, 0.0],  # 1\n",
    "        [0.3, 0.4, 0.3],  # 1\n",
    "        [0.2, 0.3, 0.5],\n",
    "    ]\n",
    ")  # 2\n",
    "T = torch.tensor([2, 0, 1, 2, 2])\n",
    "\n",
    "print(torch.argmax(Z, axis=1))\n",
    "print(T)\n",
    "\n",
    "assert accuracy(Z, T) == 0.6\n",
    "# ... test that the expected accuracy is computed"
   ]
  },
  {
   "cell_type": "markdown",
   "metadata": {},
   "source": [
    "Task 6: Training Loop\n",
    "---------------------\n",
    "\n",
    "Implement a function that takes all necessary parameters to run a training on a given dataset.\n",
    "In this week, we will make use of the whole dataset in each training step, so we will perform gradient descent (not SGD), so there is no need to define anything related to batches.\n",
    "\n",
    "For each epoch, compute the training set and the validation set accuracy, as well as their losses, and return all of them\n",
    "\n",
    "实现一个函数，该函数需要所有必要的参数来对给定的数据集进行训练。在本周，我们将在每个训练步骤中使用整个数据集，所以我们将执行梯度下降（而不是SGD），所以不需要定义任何与批次有关的东西。\n",
    "\n",
    "对于每个 epoch，计算训练集和验证集的准确度，以及它们的损失，并返回所有这些数据"
   ]
  },
  {
   "cell_type": "code",
   "execution_count": 9,
   "metadata": {},
   "outputs": [],
   "source": [
    "def train(model, lr, momentum, epochs, X_train, T_train, X_val, T_val, loss_fn):\n",
    "    optimizer = torch.optim.SGD(\n",
    "        params = model.parameters(),\n",
    "        lr = lr,\n",
    "        momentum = momentum\n",
    "    )\n",
    "\n",
    "    # collect loss and accuracy values\n",
    "    train_loss, train_acc, val_loss, val_acc = [], [], [], []\n",
    "\n",
    "    for epoch in range(epochs+1):\n",
    "        optimizer.zero_grad() ###### 一定要记得 optimizer.zero_grad()\n",
    "        # train on training set\n",
    "        # ... compute network output on training data\n",
    "        Z = model(X_train)\n",
    "        # ... compute loss from network output and target data\n",
    "        loss = loss_fn(Z, T_train)\n",
    "        # ... perform parameter update\n",
    "        loss.backward()      ##### 一定要记得 loss.backward\n",
    "        optimizer.step()\n",
    "        \n",
    "        # ... remember loss\n",
    "            # loss.detach() 的requires_grad 为 false，得到的这个 Variable 永远不需要计算其梯度，不具有grad。\n",
    "            # 相当于分离出一个不需要计算梯度的复制品\n",
    "        train_loss.append(loss.detach().numpy()) ### 后面要作图，所以用numpy储存更方便？\n",
    "    \n",
    "        # ... compute training set accuracy\n",
    "        acc = accuracy(Z.detach(), T_train).numpy()\n",
    "        train_acc.append(acc)\n",
    "\n",
    "        # test on validation data\n",
    "        with torch.no_grad():\n",
    "            # ... compute network output on validation data\n",
    "            Z = model(X_val)\n",
    "            # ... compute loss from network output and target data\n",
    "            loss = loss_fn(Z, T_val)\n",
    "            # ... remember loss\n",
    "            val_loss.append(loss.detach().numpy())\n",
    "            # ... compute validation set accuracy\n",
    "            acc = accuracy(Z.detach(), T_val).numpy()\n",
    "            val_acc.append(acc)\n",
    "\n",
    "    # return the four lists of losses and accuracies\n",
    "    return train_loss, train_acc, val_loss, val_acc"
   ]
  },
  {
   "cell_type": "markdown",
   "metadata": {},
   "source": [
    "Task 7: Plotting Function\n",
    "-------------------------\n",
    "\n",
    "Implement a function that takes four lists containing the training loss, the training accuracy, the validation loss and the validation accuracy.\n",
    "Plot the two losses into one plot, and the two accuracies into another plot."
   ]
  },
  {
   "cell_type": "code",
   "execution_count": 10,
   "metadata": {},
   "outputs": [],
   "source": [
    "from matplotlib import pyplot\n",
    "\n",
    "\n",
    "def plot(train_loss, train_acc, val_loss, val_acc):\n",
    "    pyplot.figure(figsize=(10, 3))\n",
    "    ax = pyplot.subplot(121)\n",
    "    ax.plot(train_loss, \"g-\", label=\"Training set loss\")\n",
    "    ax.plot(val_loss, \"b-\", label=\"Validation set loss\")\n",
    "    ax.legend()\n",
    "\n",
    "    ax = pyplot.subplot(122)\n",
    "    ax.plot(train_acc, \"g-\", label=\"Training set accuracy\")\n",
    "    ax.plot(val_acc, \"b-\", label=\"Validation set accuracy\")\n",
    "    ax.legend()"
   ]
  },
  {
   "cell_type": "markdown",
   "metadata": {},
   "source": [
    "Task 8: Binary Classification\n",
    "-----------------------------\n",
    "\n",
    "Load the data for binary classification, using the ``\"spambase.data\"`` file.\n",
    "Split the data into training and validation sets.\n",
    "Standardize both training and validation input data.\n",
    "\n",
    "Instantiate a network with the correct number of input neurons, a given number of $K$ hidden neurons and one output neuron.\n",
    "Instantiate the binary cross entropy loss function.\n",
    "\n",
    "Train the network with our data for 10'000 epochs and plot the training and validation accuracies and losses."
   ]
  },
  {
   "cell_type": "code",
   "execution_count": 11,
   "metadata": {},
   "outputs": [
    {
     "name": "stdout",
     "output_type": "stream",
     "text": [
      "Loaded dataset with 4601 samples\n"
     ]
    },
    {
     "data": {
      "image/png": "[encoded data removed]",
      "text/plain": [
       "<Figure size 720x216 with 2 Axes>"
      ]
     },
     "metadata": {
      "needs_background": "light"
     },
     "output_type": "display_data"
    }
   ],
   "source": [
    "# define loss function\n",
    "loss_fn = torch.nn.BCEWithLogitsLoss()\n",
    "# load dataset\n",
    "X, T =  dataset(\"spambase.data\")\n",
    "# split dataset\n",
    "X_train, T_train, X_val, T_val = split_training_data(X, T, 0.8)\n",
    "# standardize input data\n",
    "X_train, X_val = standardize(X_train, X_val)\n",
    "# instantiate network\n",
    "model = Network(D = X.shape[1], K = 50, O = 1)\n",
    "\n",
    "lr = 0.01\n",
    "momentum = 0.9\n",
    "epochs = 10000\n",
    "\n",
    "\n",
    "# train network on our data\n",
    "result = train(model, lr, momentum, epochs, X_train, T_train, X_val, T_val, loss_fn)\n",
    "\n",
    "# plot the results\n",
    "plot(*result)"
   ]
  },
  {
   "cell_type": "markdown",
   "metadata": {},
   "source": [
    "Task 9: Categorical Classification\n",
    "----------------------------------\n",
    "\n",
    "Perform the same tasks with the ``\"wine.data\"`` dataset.\n",
    "How many output neurons do we need?\n",
    "Which loss function will we need this time?\n",
    "\n",
    "How many hidden neurons will we need to get 100% training set accuracy?"
   ]
  },
  {
   "cell_type": "code",
   "execution_count": 12,
   "metadata": {},
   "outputs": [
    {
     "name": "stdout",
     "output_type": "stream",
     "text": [
      "Loaded dataset with 178 samples\n"
     ]
    },
    {
     "data": {
      "image/png": "[encoded data removed]",
      "text/plain": [
       "<Figure size 720x216 with 2 Axes>"
      ]
     },
     "metadata": {
      "needs_background": "light"
     },
     "output_type": "display_data"
    }
   ],
   "source": [
    "# define loss function\n",
    "loss_fn = torch.nn.CrossEntropyLoss()\n",
    "# load dataset\n",
    "X, T = dataset(\"wine.data\")\n",
    "# split dataset\n",
    "X_train, T_train, X_val, T_val = split_training_data(X, T, 0.8)\n",
    "\n",
    "# standardize input data\n",
    "X_train, X_val = standardize(X_train, X_val)\n",
    "# instantiate network\n",
    "model = Network(D = X.shape[1], K = 10, O = 3)\n",
    "\n",
    "# train network on our data\n",
    "result = train(model, lr, momentum, epochs, X_train, T_train, X_val, T_val, loss_fn)\n",
    "\n",
    "# plot the results\n",
    "plot(*result)"
   ]
  },
  {
   "cell_type": "code",
   "execution_count": null,
   "metadata": {},
   "outputs": [],
   "source": []
  }
 ],
 "metadata": {
  "interpreter": {
   "hash": "2dd53f8ad749bca69f7250ce75eb4f0def59db5cf79075a9716322ffc58e8a2e"
  },
  "kernelspec": {
   "display_name": "Python 3 (ipykernel)",
   "language": "python",
   "name": "python3"
  },
  "language_info": {
   "codemirror_mode": {
    "name": "ipython",
    "version": 3
   },
   "file_extension": ".py",
   "mimetype": "text/x-python",
   "name": "python",
   "nbconvert_exporter": "python",
   "pygments_lexer": "ipython3",
   "version": "3.9.7"
  }
 },
 "nbformat": 4,
 "nbformat_minor": 4
}
