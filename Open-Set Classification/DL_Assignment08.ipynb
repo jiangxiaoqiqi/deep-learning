{
 "cells": [
  {
   "cell_type": "markdown",
   "metadata": {
    "id": "7xKcHWPJ7Fne"
   },
   "source": [
    "Assignment 8: Open-Set Classification\n",
    "=====================================\n",
    "\n",
    "\n",
    "Microsoft Forms Document: https://forms.office.com/r/xY9sQDQdGh\n",
    "\n",
    "We select the MNIST dataset and define several classes to be known, known unknown (used as negative class during training) and unknown unknown (not used for training at all).\n",
    "\n",
    "Task 1: Target Vectors\n",
    "----------------------\n",
    "\n",
    "For our training dataset, we want to use four classes of MNIST digits (4,5,8,9) as known classes and four (0,2,3,7) as known unknowns. \n",
    "The remaining two classes shall be ignored during training and validation, amd only be used for testing purposes.\n",
    "\n",
    "When we want to train with our adapted softmax function, we need to assign the correct target vectors for the classes. \n",
    "These are $(1,0,0,0)$, $(0,1,0,0)$, $(0,0,1,0)$ and $(0,0,0,1)$ for the known classes, respectively. \n",
    "For known unknown classes, the target vector is $\\left(\\frac14,\\frac14,\\frac14,\\frac14\\right)$, throughout.\n"
   ]
  },
  {
   "cell_type": "code",
   "execution_count": null,
   "metadata": {
    "id": "aCVbUOQI7Fnh"
   },
   "outputs": [],
   "source": [
    "import torch\n",
    "import torchvision\n",
    "\n",
    "# define the three types of classes\n",
    "known_classes = (4,5,8,9)\n",
    "known_unknown_classes = (0,2,3,7)\n",
    "unknown_classes = (1,6)\n",
    "O = len(known_classes)\n",
    "\n",
    "def target_vector(index):\n",
    "  one_hot = torch.zeros(O)\n",
    "  same = torch.tensor([1/O]*O)\n",
    "  # select correct one-hot vector for known classes, and the 1/O-vectors for unknown classes\n",
    "  for i, c in enumerate(known_classes):\n",
    "    if index == c:\n",
    "      one_hot[i] = 1\n",
    "      return one_hot\n",
    "  return same"
   ]
  },
  {
   "cell_type": "markdown",
   "metadata": {
    "id": "vfzx3H8P7Fni"
   },
   "source": [
    "Test 1: Check your Target Vectors\n",
    "---------------------------------\n",
    "\n",
    "Test that your target vectors are correct, for all tpyes of known and unknown samples."
   ]
  },
  {
   "cell_type": "code",
   "execution_count": null,
   "metadata": {
    "colab": {
     "base_uri": "https://localhost:8080/"
    },
    "id": "cBT12BnQ7Fni",
    "outputId": "9439394a-ca76-49b7-94c7-e04069a81156"
   },
   "outputs": [
    {
     "name": "stdout",
     "output_type": "stream",
     "text": [
      "4 tensor([1., 0., 0., 0.])\n",
      "5 tensor([0., 1., 0., 0.])\n",
      "8 tensor([0., 0., 1., 0.])\n",
      "9 tensor([0., 0., 0., 1.])\n",
      "0 tensor([0.2500, 0.2500, 0.2500, 0.2500])\n",
      "2 tensor([0.2500, 0.2500, 0.2500, 0.2500])\n",
      "3 tensor([0.2500, 0.2500, 0.2500, 0.2500])\n",
      "7 tensor([0.2500, 0.2500, 0.2500, 0.2500])\n",
      "1 tensor([0.2500, 0.2500, 0.2500, 0.2500])\n",
      "6 tensor([0.2500, 0.2500, 0.2500, 0.2500])\n"
     ]
    }
   ],
   "source": [
    "# check that the target vectors for known classes are correct\n",
    "for index in known_classes:\n",
    "  t = target_vector(index)\n",
    "  assert sum(t) == 1\n",
    "  assert max(t) == 1\n",
    "  assert t.shape == (4,)\n",
    "  print(index, t)\n",
    "\n",
    "# check that the target vectors for unknown classes are correct\n",
    "for index in known_unknown_classes + unknown_classes:\n",
    "  t = target_vector(index)\n",
    "  assert sum(t) == 1\n",
    "  assert max(t) == 0.25\n",
    "  assert t.shape == (4,)\n",
    "  print(index, t)\n",
    "  "
   ]
  },
  {
   "cell_type": "markdown",
   "metadata": {
    "id": "SNXY1CLR7Fnj"
   },
   "source": [
    "Task 2 and 3: Training Dataset\n",
    "------------------------\n",
    "We rely on the MNIST dataset implementation from PyTorch and adapt some parts of it. \n",
    "Mainly, we will let PyTorch load the dataset by calling the base class constructor and modify the `self.data` and `self.targets` ourselves.\n",
    "Additionally, we need to implement the index function to return the data and targets in the desired format.\n",
    "\n",
    "Since Jupyter Notebook does not allow splitting classes over several code boxes, the two tasks are required to be solved in the same code box."
   ]
  },
  {
   "cell_type": "code",
   "execution_count": null,
   "metadata": {
    "id": "NiLpui6g7Fnj"
   },
   "outputs": [],
   "source": [
    "class DataSet(torchvision.datasets.MNIST):\n",
    "  def __init__(self, purpose=\"train\"):\n",
    "    # call base class constructor to handle the data loading\n",
    "    super(DataSet, self).__init__(\n",
    "      root = \"./temp\",\n",
    "      train = purpose==\"train\",\n",
    "      download=True,\n",
    "      transform = torchvision.transforms.ToTensor()\n",
    "    )\n",
    "    # select the valid classes based on the current purpose\n",
    "    if purpose == \"train\" or purpose == \"valid\":\n",
    "      self.classes = known_classes + known_unknown_classes\n",
    "    else:       ### purpose == \"test\"\n",
    "      self.classes = known_classes + unknown_classes\n",
    "\n",
    "    ####### ↓↓↓ 目前的 self.tagets 还没有被 one-hot 编码，是由 [0,9] 组成， 且 shape = (60000,)\n",
    "    valid_sample_idx = [x in self.classes for x in self.targets] ### 相当于一层 mask, 把数据中 targets 属于 self.classes 的数据 idx 给抽出来了 [True, False ...]\n",
    "\n",
    "    # sub-select the data of valid classes\n",
    "    self.data = self.data[valid_sample_idx]\n",
    "    # select the targets of valid classes\n",
    "    self.targets = self.targets[valid_sample_idx]\n",
    "\n",
    "  def __getitem__(self, index): ### get Item 到底干嘛用的？？？ 为什么要以 index 为参数？？？\n",
    "    # perform appropriate actions on the data and the targets\n",
    "    input, target = super().__getitem__(index)\n",
    "    target = target_vector(target)\n",
    "\n",
    "    return input, target"
   ]
  },
  {
   "cell_type": "markdown",
   "metadata": {
    "id": "fVRgvj3p7Fnk"
   },
   "source": [
    "Test 2: Data Sets\n",
    "-----------------\n",
    "\n",
    "Instantiate the training dataset.\n",
    "Implement a data loader for the training dataset with a batch size of 64.\n",
    "Assure that all inputs are of the desired type and shape.\n",
    "Assert that the target values are in the correct format, and the sum of the target values per sample is one."
   ]
  },
  {
   "cell_type": "code",
   "execution_count": null,
   "metadata": {
    "colab": {
     "base_uri": "https://localhost:8080/",
     "height": 431,
     "referenced_widgets": [
      "2f04aa5a69fb4080bc3d706fe22ed668",
      "8ff4bce6a7d94a8fa6ad9ea9de440115",
      "d4d8fd8a60e547919ad31626c9dfe8ef",
      "4ec4a6a8ede1478aafce0da43d7112c4",
      "caeaa7b9c10a4027a4fb22249c40b11f",
      "8830397816c543879159c973cfeceddc",
      "503f3fec26f747b58a622e8fd67f8470",
      "63c64093e8de47dc81225a38893322ef",
      "474ed1e3841f4ea2a1ee049ed55d1b55",
      "df6be0b61e6e47e19b17566fc825508a",
      "8fa58f9e09c94f8f899149d653b253a9",
      "b46855e722f6450b83edea6afd137dc7",
      "aca3c7f238fd4baab3c295cb55355636",
      "7e831abbfe0f4af1aadcc31ceaf22349",
      "a75858fb771e4ae6ab64dad424feaa76",
      "938b6e2edb0a457bb2815926587767cc",
      "38e039b9520d48aba72680d1cfb4eca1",
      "926d6419e70a45b9a0212b8d2541fd15",
      "0ffc2bdd4f1d40c3b1b68caf87c20556",
      "f161f9442af24bbeb0b27a611802978c",
      "ecdfac827f77462a96acb08901fa8b42",
      "3d163e25a97b4949bdb38cc8947c62a3",
      "e8e336777bbe4e568888fd220bac5b74",
      "4150e58823624892921eef95b20aa456",
      "fd046e6d200d40c4aa74ea7316df2f7b",
      "94898606092549e09706b2bb038420a9",
      "0160b271aeea45209281767fed74453c",
      "e342f8d73f9b4028bb6874c4e68d5fb6",
      "282b6e29f3554b518e9d16026b2c0993",
      "a2cc5570b2084b1a98810dbdf4b7ad3e",
      "529b502589bf45758985dd0bd224ce31",
      "a94b5bbd8a664a448e77dbbb80a8e16b",
      "7f969245d7b840e9982742e417cee74e",
      "59e4089fa17f4316985153a221637b61",
      "4e5f74690bf84fe48ef5025ccf8b7399",
      "c9a55cf1a01849a5887e77e8760de39d",
      "3ad20e9b832942cfbf12870615265fdd",
      "e54309b7059f4839b22c97731d56553f",
      "9955f32133b943078f3ffba9c812c08a",
      "80d13af5b473458cbf5b76c6a3b9f9ad",
      "9bdd48e34ca3405bbcdd3e13d80e2df9",
      "e2fba9be29b94949854e0f9baf980ef5",
      "3d8c2e9adf5a454d873a81f04f93c0a8",
      "f699d128444a4cc19c1d5cfe14c9ed6c"
     ]
    },
    "id": "lBE264bZ7Fnl",
    "outputId": "29f4a9a3-bd67-4b36-e5b2-602633bd0e23"
   },
   "outputs": [
    {
     "name": "stdout",
     "output_type": "stream",
     "text": [
      "Downloading http://yann.lecun.com/exdb/mnist/train-images-idx3-ubyte.gz\n",
      "Downloading http://yann.lecun.com/exdb/mnist/train-images-idx3-ubyte.gz to ./temp/DataSet/raw/train-images-idx3-ubyte.gz\n"
     ]
    },
    {
     "data": {
      "application/vnd.jupyter.widget-view+json": {
       "model_id": "2f04aa5a69fb4080bc3d706fe22ed668",
       "version_major": 2,
       "version_minor": 0
      },
      "text/plain": [
       "  0%|          | 0/9912422 [00:00<?, ?it/s]"
      ]
     },
     "metadata": {},
     "output_type": "display_data"
    },
    {
     "name": "stdout",
     "output_type": "stream",
     "text": [
      "Extracting ./temp/DataSet/raw/train-images-idx3-ubyte.gz to ./temp/DataSet/raw\n",
      "\n",
      "Downloading http://yann.lecun.com/exdb/mnist/train-labels-idx1-ubyte.gz\n",
      "Downloading http://yann.lecun.com/exdb/mnist/train-labels-idx1-ubyte.gz to ./temp/DataSet/raw/train-labels-idx1-ubyte.gz\n"
     ]
    },
    {
     "data": {
      "application/vnd.jupyter.widget-view+json": {
       "model_id": "b46855e722f6450b83edea6afd137dc7",
       "version_major": 2,
       "version_minor": 0
      },
      "text/plain": [
       "  0%|          | 0/28881 [00:00<?, ?it/s]"
      ]
     },
     "metadata": {},
     "output_type": "display_data"
    },
    {
     "name": "stdout",
     "output_type": "stream",
     "text": [
      "Extracting ./temp/DataSet/raw/train-labels-idx1-ubyte.gz to ./temp/DataSet/raw\n",
      "\n",
      "Downloading http://yann.lecun.com/exdb/mnist/t10k-images-idx3-ubyte.gz\n",
      "Downloading http://yann.lecun.com/exdb/mnist/t10k-images-idx3-ubyte.gz to ./temp/DataSet/raw/t10k-images-idx3-ubyte.gz\n"
     ]
    },
    {
     "data": {
      "application/vnd.jupyter.widget-view+json": {
       "model_id": "e8e336777bbe4e568888fd220bac5b74",
       "version_major": 2,
       "version_minor": 0
      },
      "text/plain": [
       "  0%|          | 0/1648877 [00:00<?, ?it/s]"
      ]
     },
     "metadata": {},
     "output_type": "display_data"
    },
    {
     "name": "stdout",
     "output_type": "stream",
     "text": [
      "Extracting ./temp/DataSet/raw/t10k-images-idx3-ubyte.gz to ./temp/DataSet/raw\n",
      "\n",
      "Downloading http://yann.lecun.com/exdb/mnist/t10k-labels-idx1-ubyte.gz\n",
      "Downloading http://yann.lecun.com/exdb/mnist/t10k-labels-idx1-ubyte.gz to ./temp/DataSet/raw/t10k-labels-idx1-ubyte.gz\n"
     ]
    },
    {
     "data": {
      "application/vnd.jupyter.widget-view+json": {
       "model_id": "59e4089fa17f4316985153a221637b61",
       "version_major": 2,
       "version_minor": 0
      },
      "text/plain": [
       "  0%|          | 0/4542 [00:00<?, ?it/s]"
      ]
     },
     "metadata": {},
     "output_type": "display_data"
    },
    {
     "name": "stdout",
     "output_type": "stream",
     "text": [
      "Extracting ./temp/DataSet/raw/t10k-labels-idx1-ubyte.gz to ./temp/DataSet/raw\n",
      "\n"
     ]
    }
   ],
   "source": [
    "# instantiate the training dataset\n",
    "train_set = DataSet(purpose=\"train\")\n",
    "train_loader = torch.utils.data.DataLoader(dataset=train_set, batch_size=64, shuffle=True)\n",
    "\n",
    "# assert that we have not filtered out all samples\n",
    "assert len(train_loader) != 0\n",
    "\n",
    "# check the batch and assert valid data and sizes\n",
    "for x,t in train_loader:\n",
    "  assert len(t) == len(x)\n",
    "  assert t.shape[1] == 4\n",
    "  assert torch.sum(t) == t.shape[0]\n",
    "  assert len(x) <= 64\n",
    "  assert torch.all(torch.sum(t, axis=1) == 1)\n",
    "  assert x.shape == torch.Size([x.shape[0], 1, 28, 28])\n",
    "  assert x.dtype == torch.float32\n",
    "  assert torch.max(x) <= 1\n",
    "  "
   ]
  },
  {
   "cell_type": "markdown",
   "metadata": {
    "id": "eML8y79P7Fnl"
   },
   "source": [
    "Task 4: Utility Function\n",
    "------------------------\n",
    "\n",
    "Implement a function that splits a batch of samples into known and unknown parts. For the known parts, also provide the target vectors.\n",
    "How can we know which of the data samples are known smaples, and which are unknown?\n",
    "\n",
    "实现一个函数，将一批样本分割成已知和未知的部分。对于已知部分，还要提供目标向量。我们怎样才能知道哪些数据样本是已知部分，哪些是未知部分？"
   ]
  },
  {
   "cell_type": "code",
   "execution_count": null,
   "metadata": {
    "id": "34kFUNEQ7Fnm"
   },
   "outputs": [],
   "source": [
    "def split_known_unknown(batch, targets):\n",
    "  # select the indexes at which known and unknown samples exist\n",
    "  known = targets.max(dim=1)[0] == 1\n",
    "  unknown = ~known\n",
    "  # return the known samples, the targets of the known samples, as well as the unknown samples\n",
    "  return batch[known], targets[known], batch[unknown]"
   ]
  },
  {
   "cell_type": "markdown",
   "metadata": {
    "id": "dwu42aai7Fnm"
   },
   "source": [
    "Task 5: Loss Function Implementation\n",
    "------------------------------------\n",
    "\n",
    "We implement a loss function that implements an autograd function, i.e., we define both the forward and the backward pass for our loss computation.\n",
    "\n",
    "<img src=\"https://s2.loli.net/2022/06/06/ZDFb3JUa8E4Rpsn.png\" width=\"50%\">"
   ]
  },
  {
   "cell_type": "code",
   "execution_count": null,
   "metadata": {
    "id": "O9hY8cE27Fnm"
   },
   "outputs": [],
   "source": [
    "class AdaptedSoftMax(torch.autograd.Function):\n",
    "\n",
    "  # implement the forward propagation\n",
    "  @staticmethod\n",
    "  def forward(ctx, logits, targets):\n",
    "    # compute the log probabilities via log_softmax\n",
    "    log_y = torch.nn.functional.log_softmax(logits, dim=1)\n",
    "    # save required values for backward pass\n",
    "    ctx.save_for_backward(log_y, targets)\n",
    "    # compute loss\n",
    "    loss = - torch.sum(targets * log_y)\n",
    "    return loss\n",
    "\n",
    "  # implement Jacobian\n",
    "  @staticmethod\n",
    "  def backward(ctx, result):\n",
    "    # get results stored from forward pass\n",
    "    log_y, targets = ctx.saved_tensors\n",
    "    # compute derivative of loss w.r.t. the logits\n",
    "    dJ_dy = torch.exp(log_y) - targets\n",
    "    # return the derivatives; none for derivative for the targets\n",
    "    return dJ_dy, None\n",
    "\n",
    "# DO NOT REMOVE!\n",
    "# here we set the adapted softmax function to be used later\n",
    "adapted_softmax = AdaptedSoftMax.apply"
   ]
  },
  {
   "cell_type": "markdown",
   "metadata": {
    "id": "d19gtscU7Fnn"
   },
   "source": [
    "Task 5a: Alternative Loss Function\n",
    "----------------------------------\n",
    "\n",
    "If the implementation of the autograd function in Task 5 is too complicated, we can also rely on PyTorch to compute the gradient for us.\n",
    "In this case, we only need to define the forward pass, i.e., the loss function itself.\n",
    "\n",
    "如果任务5中autograd函数的实现过于复杂，我们也可以依靠PyTorch来为我们计算梯度。在这种情况下，我们只需要定义前向通道，即损失函数本身。"
   ]
  },
  {
   "cell_type": "code",
   "execution_count": null,
   "metadata": {
    "id": "XXHZB7Uv7Fnn"
   },
   "outputs": [],
   "source": [
    "def adapted_softmax_alt(logits, targets):   ### 这个是如何运用的？？？\n",
    "  # compute cross-entropy loss on top of softmax values of the logits\n",
    "  loss = - torch.sum(targets * torch.nn.functional.log_softmax(logits, dim=1))\n",
    "  return loss"
   ]
  },
  {
   "cell_type": "markdown",
   "metadata": {
    "id": "MlZi4xhU7Fnn"
   },
   "source": [
    "Task 6: Confidence Evaluation\n",
    "-----------------------------\n",
    "\n",
    "Implement a function to compute the confidence value for a given batch of samples. Make sure to split the batch between known and unknown samples, and compute the confidence value for both separately.\n",
    "\n",
    "实现一个函数来计算一批给定样本的置信度。确保在已知和未知样本之间分割批次，并分别计算两者的置信度。"
   ]
  },
  {
   "cell_type": "code",
   "execution_count": null,
   "metadata": {
    "id": "QHE3EVUZ7Fnn"
   },
   "outputs": [],
   "source": [
    "def confidence(logits, targets):\n",
    "  # comupte softmax confidences\n",
    "  y = torch.nn.functional.softmax(logits,dim=1) ## y.shape = (N,O)\n",
    "  # split between known and unknown\n",
    "  known, known_targets, unknown = split_known_unknown(y, targets)\n",
    "  # compute confidence score for known targets\n",
    "  \n",
    "  # conf_known = (known * known_targets).sum(dim=1)  \n",
    "  conf_known = sum(known[known_targets.bool()]) ###### (known*known_targets).sum(dim=1)\n",
    "  # compute confidence score for unknown targets\n",
    "  conf_unknown = torch.sum(1 - unknown.max(dim=1)[0] + 1/O)   ### torch.max(向量，dim)[0] 代表取值？？\n",
    "  return conf_known + conf_unknown ### 为什么要 相加 返回？"
   ]
  },
  {
   "cell_type": "markdown",
   "metadata": {
    "id": "IvNV96ri7Fno"
   },
   "source": [
    "Test 3: Check Confidence Implementation\n",
    "---------------------------------------\n",
    "\n",
    "Test that your confidence implementation does what it is supposed to do."
   ]
  },
  {
   "cell_type": "code",
   "execution_count": null,
   "metadata": {
    "colab": {
     "base_uri": "https://localhost:8080/"
    },
    "id": "eJLXy9ej7Fno",
    "outputId": "a8a19869-a299-4c2a-a482-7d638aa8ede7"
   },
   "outputs": [
    {
     "name": "stdout",
     "output_type": "stream",
     "text": [
      "tensor(2.9997)\n"
     ]
    }
   ],
   "source": [
    "known_classes = (4,5,8,9)\n",
    "known_unknown_classes = (0,2,3,7)\n",
    "unknown_classes = (1,6)\n",
    "\n",
    "# select good logit vectors for known and unknown classes\n",
    "logits = torch.tensor([\n",
    "  [10.,0.,0.,0.,],\n",
    "  [-10.,0.,-10.,-10.],\n",
    "  [0.,0.,0.,0.]\n",
    "])\n",
    "# select the according target vectors for these classes\n",
    "# target_vectors = [target_vector(known_classes[0]),target_vector(known_classes[1]),target_vector(known_unknown_classes[0]) ]\n",
    "target_vectors = torch.stack([target_vector(known_classes[0]), target_vector(known_classes[1]), target_vector(known_unknown_classes[0])])\n",
    "\n",
    "# the confidence should be close to 1 for all cases\n",
    "assert 3 - confidence(logits, target_vectors) < 1e-3\n",
    "print(confidence(logits, target_vectors))"
   ]
  },
  {
   "cell_type": "markdown",
   "metadata": {
    "id": "BEBCiVCJ7Fno"
   },
   "source": [
    "Task 7: Network Definition\n",
    "--------------------------\n",
    "\n",
    "We define our own small-scale network to classify known and unknown samples for MNIST.\n",
    "We basically use the same convolutional network as in Assignment 6, with some small adaptations.\n",
    "However, this time we need to implement our own network model since we need to modify our network output."
   ]
  },
  {
   "cell_type": "code",
   "execution_count": null,
   "metadata": {
    "colab": {
     "base_uri": "https://localhost:8080/"
    },
    "id": "s4MZR0kA7Fno",
    "outputId": "0d9ba50e-812b-49d4-e909-930c64c70928"
   },
   "outputs": [
    {
     "name": "stdout",
     "output_type": "stream",
     "text": [
      "----------------------------------------------------------------\n",
      "        Layer (type)               Output Shape         Param #\n",
      "================================================================\n",
      "            Conv2d-1           [-1, 32, 28, 28]             832\n",
      "         MaxPool2d-2           [-1, 32, 14, 14]               0\n",
      "              ReLU-3           [-1, 32, 14, 14]               0\n",
      "            Conv2d-4           [-1, 32, 14, 14]          25,632\n",
      "         MaxPool2d-5             [-1, 32, 7, 7]               0\n",
      "              ReLU-6             [-1, 32, 7, 7]               0\n",
      "           Flatten-7                 [-1, 1568]               0\n",
      "            Linear-8                   [-1, 20]          31,380\n",
      "            Linear-9                    [-1, 4]              80\n",
      "================================================================\n",
      "Total params: 57,924\n",
      "Trainable params: 57,924\n",
      "Non-trainable params: 0\n",
      "----------------------------------------------------------------\n",
      "Input size (MB): 0.00\n",
      "Forward/backward pass size (MB): 0.37\n",
      "Params size (MB): 0.22\n",
      "Estimated Total Size (MB): 0.59\n",
      "----------------------------------------------------------------\n"
     ]
    }
   ],
   "source": [
    "class Network (torch.nn.Module):\n",
    "  def __init__(self, Q1, Q2, K, O):\n",
    "    # call base class constrcutor\n",
    "    super(Network,self).__init__()\n",
    "    # define convolutional layers\n",
    "    self.conv1 = torch.nn.Conv2d(in_channels=1, out_channels=Q1, kernel_size=5, stride=1, padding=2)\n",
    "    self.conv2 = torch.nn.Conv2d(in_channels=Q1, out_channels=Q2, kernel_size=5, stride=1, padding=2)\n",
    "    # pooling and activation functions will be re-used for the different stages\n",
    "    self.pool = torch.nn.MaxPool2d(kernel_size=(2,2), stride=2) ### 这里必须要写完整！！！\n",
    "    self.act = torch.nn.ReLU()\n",
    "    # define fully-connected layers\n",
    "    self.flatten = torch.nn.Flatten()\n",
    "    self.fc1 = torch.nn.Linear(in_features=7*7*Q2, out_features=K, bias=True)\n",
    "    self.fc2 = torch.nn.Linear(in_features=K, out_features=O, bias=False) ### 为什么不需要 bias???\n",
    "  \n",
    "  def forward(self,x):\n",
    "    # compute first layer of convolution, pooling and activation\n",
    "    a = self.act(self.pool(self.conv1(x)))\n",
    "    # compute second layer of convolution, pooling and activation\n",
    "    a = self.act(self.pool(self.conv2(a)))\n",
    "    # get the deep features as the output of the first fully-connected layer\n",
    "    deep_features = self.fc1(self.flatten(a))\n",
    "    # get the logits as the output of the second fully-connected layer\n",
    "    logits = self.fc2(deep_features)\n",
    "    # return both the logits and the deep features\n",
    "    return logits, deep_features\n",
    "\n",
    "# run on cuda device\n",
    "device = torch.device(\"cuda\")\n",
    "# create network with 20 hidden neurons in FC layer\n",
    "network = Network(Q1=32,Q2=32,K=20,O=4).to(device) ### 这儿需要 to(device) 才不会报错\n",
    "\n",
    "from torchsummary import summary\n",
    "summary(network,(1,28,28))"
   ]
  },
  {
   "cell_type": "markdown",
   "metadata": {
    "id": "j2DiOKnL7Fno"
   },
   "source": [
    "Task 8: Training Loop\n",
    "---------------------\n",
    "\n",
    "Instantiate everything that you need.\n",
    "Implement the training loop for 100 epochs.\n",
    "Compute the running training confidence and validation confidence and print them at the end of each epoch."
   ]
  },
  {
   "cell_type": "code",
   "execution_count": null,
   "metadata": {
    "colab": {
     "base_uri": "https://localhost:8080/"
    },
    "id": "nATiY4R17Fno",
    "outputId": "35b90e97-9532-45eb-f286-2d94fdc31edc"
   },
   "outputs": [
    {
     "name": "stdout",
     "output_type": "stream",
     "text": [
      "Epoch 0; train: 0.88825, val: 0.93348\n",
      "Epoch 1; train: 0.94843, val: 0.95310\n",
      "Epoch 2; train: 0.95936, val: 0.96280\n",
      "Epoch 3; train: 0.96425, val: 0.96556\n",
      "Epoch 4; train: 0.96852, val: 0.96746\n",
      "Epoch 5; train: 0.97162, val: 0.97204\n",
      "Epoch 6; train: 0.97420, val: 0.97156\n",
      "Epoch 7; train: 0.97579, val: 0.97299\n",
      "Epoch 8; train: 0.97779, val: 0.97472\n",
      "Epoch 9; train: 0.97867, val: 0.97544\n"
     ]
    }
   ],
   "source": [
    "# SGD optimizer with appropriate learning rate\n",
    "optimizer = torch.optim.SGD(\n",
    "    params=network.parameters(),\n",
    "    lr=0.001,\n",
    "    momentum=0.9\n",
    ") \n",
    "\n",
    "# validation set and data loader\n",
    "validation_set = DataSet(\"valid\")\n",
    "validation_loader = torch.utils.data.DataLoader(validation_set,64,False)\n",
    "\n",
    "for epoch in range(10): # or 100\n",
    "  # evaluate average confidence for training and validation set\n",
    "  train_conf = validation_conf = 0.\n",
    "\n",
    "  for x,t in train_loader:\n",
    "\n",
    "    optimizer.zero_grad()\n",
    "    # extract logits (and deep features) from network\n",
    "    logits, deep_features = network(x.to(device))\n",
    "    # compute our loss\n",
    "    J = adapted_softmax(logits,t.to(device))   ### vector 形式的 target 也需要放在 GPU 上运行\n",
    "\n",
    "    # perform weight update\n",
    "    J.backward()\n",
    "    optimizer.step()\n",
    "    # compute training confidence\n",
    "    train_conf += confidence(logits, t)\n",
    "\n",
    "  # compute validation comfidence\n",
    "  with torch.no_grad():\n",
    "    for x,t in validation_loader:\n",
    "      # extract logits (and deep features)\n",
    "      logits, deep_features = network(x.to(device))\n",
    "      # compute validation confidence\n",
    "      validation_conf += confidence(logits, t)\n",
    "\n",
    "  # print average confidence for training and validation\n",
    "  print(f\"\\rEpoch {epoch}; train: {train_conf/len(train_set):1.5f}, val: {validation_conf/len(validation_set):1.5f}\")"
   ]
  },
  {
   "cell_type": "markdown",
   "metadata": {
    "id": "ne9WZ6Is7Fnp"
   },
   "source": [
    "Task 9: Feature Magnitude Plot\n",
    "------------------------------\n",
    "\n",
    "Take the validation and test sets and plot their feature magnitude as histogram, based on the pre-trained network and split between known, known unknown (validation set) and unknown unknown (test set).\n",
    "\n",
    "以验证集和测试集为基础，根据预训练的网络，将其特征幅度绘制成直方图，并在已知、已知未知（验证集）和未知未知（测试集）之间划分。"
   ]
  },
  {
   "cell_type": "code",
   "execution_count": null,
   "metadata": {
    "colab": {
     "base_uri": "https://localhost:8080/",
     "height": 192
    },
    "id": "MjF4EqbC7Fnp",
    "outputId": "96ad0445-b9d3-45bc-9fec-2facd369424e"
   },
   "outputs": [
    {
     "data": {
      "text/plain": [
       "Text(0, 0.5, 'Density')"
      ]
     },
     "execution_count": 13,
     "metadata": {},
     "output_type": "execute_result"
    },
    {
     "data": {
      "image/png": "[encoded data removed]",
      "text/plain": [
       "<Figure size 288x144 with 1 Axes>"
      ]
     },
     "metadata": {
      "needs_background": "light"
     },
     "output_type": "display_data"
    }
   ],
   "source": [
    "# instantiate test set and according data loader\n",
    "test_set = DataSet(\"test\")\n",
    "test_loader = torch.utils.data.DataLoader(test_set, 64, False)\n",
    "\n",
    "# collect feature magnitudes for \n",
    "known, known_unknown, unknown = [], [], []\n",
    "\n",
    "with torch.no_grad():\n",
    "  # extract deep features magnitudes for validation set\n",
    "  for x,t in validation_loader:\n",
    "    # extract deep features (and logits)\n",
    "    _, f = network(x.to(device))\n",
    "    # compute norms\n",
    "    norms = torch.linalg.norm(f, ord=2, dim=1)\n",
    "    # split between known and unknown\n",
    "    known_norm, known_norm_targets, unknown_norm = split_known_unknown(norms,t)\n",
    "    # collect norms of known samples\n",
    "    known.extend(known_norm.cpu().numpy())\n",
    "    # collect norms of known unknwown samples\n",
    "    known_unknown.extend(unknown_norm.cpu().numpy())\n",
    "\n",
    "  for x,t in test_loader:\n",
    "    # extract deep features (and logits)\n",
    "    _, f = network(x.to(device))\n",
    "    # compute norms\n",
    "    norms = torch.linalg.norm(f, ord=2, dim=1)\n",
    "    # split between known and unknown\n",
    "    known_norm, known_norm_targets, unknown_norm = split_known_unknown(norms,t)\n",
    "    # collect norms of known samples\n",
    "          # no need to extra known again since they are identical in the validation set\n",
    "    # collect norms of unknown unknown samples\n",
    "    unknown.extend(unknown_norm.cpu().numpy())\n",
    "\n",
    "\n",
    "# plot the norms as histograms\n",
    "from matplotlib import pyplot\n",
    "pyplot.figure(figsize=(4,2))\n",
    "\n",
    "# keep the same maximum magnitude; I could also compute it, but I am too lazy.\n",
    "max_mag = 20\n",
    "# plot the three histograms\n",
    "pyplot.hist(known, bins=100, range=(0,max_mag), density=True, color=\"g\", histtype=\"step\", label=\"Known\")\n",
    "pyplot.hist(known_unknown, bins=100, range=(0,max_mag), density=True, color=\"b\", histtype=\"step\", label=\"Known Unknown\")\n",
    "pyplot.hist(unknown, bins=100, range=(0,max_mag), density=True, color=\"r\", histtype=\"step\", label=\"Unknown Unknown\")\n",
    "\n",
    "# beautify plot\n",
    "pyplot.legend()\n",
    "pyplot.xlabel(\"Deep Feature Magnitude\")\n",
    "pyplot.ylabel(\"Density\")"
   ]
  },
  {
   "cell_type": "markdown",
   "metadata": {
    "id": "LFiLUQ7c7Fnp"
   },
   "source": [
    "Task 10: Classification Evaluation\n",
    "----------------------------------\n",
    "\n",
    "For a fixed threshold of $\\tau=0.98$, compute CCR and FPR for the test set.\n",
    "A well-trained network can achieve a CCR of > 90% for an FPR < 10%.\n",
    "You might need to vary the threshold.\n",
    "\n",
    "<img src=\"https://s2.loli.net/2022/06/07/uY8riKwIP9TyLXA.png\" width=30%/>"
   ]
  },
  {
   "cell_type": "code",
   "execution_count": null,
   "metadata": {
    "colab": {
     "base_uri": "https://localhost:8080/"
    },
    "id": "2tWpEJrQ7Fnp",
    "outputId": "f7a4191e-f974-451b-9e87-b561999bc868"
   },
   "outputs": [
    {
     "name": "stdout",
     "output_type": "stream",
     "text": [
      "CCR: 3501 of 3857 = 90.77%\n",
      "FPR: 66 of 2093 = 3.15%\n"
     ]
    }
   ],
   "source": [
    "tau = 0.98\n",
    "\n",
    "# count the correctly classified and the total number of known samples\n",
    "correct = known = 0\n",
    "# count the incorrectly classified and the total number of unknown samples\n",
    "false = unknown = 0\n",
    "\n",
    "with torch.no_grad():\n",
    "  for x,t in test_loader:\n",
    "    # extract logits (and deep features)\n",
    "    z, f = network(x.to(device))\n",
    "    # compute softmax confidences\n",
    "    softmax_confidences = torch.softmax(z, dim=1).cpu()\n",
    "    # split between known and unknown\n",
    "    known_sc, known_sc_targets, unknown_sc = split_known_unknown(softmax_confidences,t)\n",
    "        # known_sc_targets --> [0,1,0,0]...\n",
    "        # known_sc_targets.bool() -> [False,True,False,False]...\n",
    "    # compute number of correctly classified knowns above threshold\n",
    "    correct += torch.sum( torch.logical_and( \n",
    "        torch.argmax(known_sc,dim=1) == torch.argmax(known_sc_targets,dim=1),\n",
    "        # known_sc[known_sc_targets.bool()] >= tau ### ??????\n",
    "        (known_sc * known_sc_targets).sum(dim=1) >= tau ### 这样写也可以\n",
    "        ))\n",
    "    known += len(known_sc)\n",
    "\n",
    "    # compute number of incorrectly accepted known samples\n",
    "    false += torch.sum(torch.max(unknown_sc,dim=1)[0] > tau)\n",
    "    unknown += len(unknown_sc)\n",
    "\n",
    "# print both rates\n",
    "print (f\"CCR: {correct} of {known} = {correct/known*100:2.2f}%\")\n",
    "print (f\"FPR: {false} of {unknown} = {false/unknown*100:2.2f}%\")\n"
   ]
  },
  {
   "cell_type": "code",
   "execution_count": null,
   "metadata": {
    "id": "PL0tmkSy2fJC"
   },
   "outputs": [],
   "source": []
  }
 ],
 "metadata": {
  "accelerator": "GPU",
  "colab": {
   "collapsed_sections": [],
   "name": "DL-Assignment08.ipynb",
   "provenance": []
  },
  "interpreter": {
   "hash": "2dd53f8ad749bca69f7250ce75eb4f0def59db5cf79075a9716322ffc58e8a2e"
  },
  "kernelspec": {
   "display_name": "Python 3 (ipykernel)",
   "language": "python",
   "name": "python3"
  },
  "language_info": {
   "codemirror_mode": {
    "name": "ipython",
    "version": 3
   },
   "file_extension": ".py",
   "mimetype": "text/x-python",
   "name": "python",
   "nbconvert_exporter": "python",
   "pygments_lexer": "ipython3",
   "version": "3.9.7"
  },
  "widgets": {
   "application/vnd.jupyter.widget-state+json": {
    "0160b271aeea45209281767fed74453c": {
     "model_module": "@jupyter-widgets/base",
     "model_module_version": "1.2.0",
     "model_name": "LayoutModel",
     "state": {
      "_model_module": "@jupyter-widgets/base",
      "_model_module_version": "1.2.0",
      "_model_name": "LayoutModel",
      "_view_count": null,
      "_view_module": "@jupyter-widgets/base",
      "_view_module_version": "1.2.0",
      "_view_name": "LayoutView",
      "align_content": null,
      "align_items": null,
      "align_self": null,
      "border": null,
      "bottom": null,
      "display": null,
      "flex": null,
      "flex_flow": null,
      "grid_area": null,
      "grid_auto_columns": null,
      "grid_auto_flow": null,
      "grid_auto_rows": null,
      "grid_column": null,
      "grid_gap": null,
      "grid_row": null,
      "grid_template_areas": null,
      "grid_template_columns": null,
      "grid_template_rows": null,
      "height": null,
      "justify_content": null,
      "justify_items": null,
      "left": null,
      "margin": null,
      "max_height": null,
      "max_width": null,
      "min_height": null,
      "min_width": null,
      "object_fit": null,
      "object_position": null,
      "order": null,
      "overflow": null,
      "overflow_x": null,
      "overflow_y": null,
      "padding": null,
      "right": null,
      "top": null,
      "visibility": null,
      "width": null
     }
    },
    "0ffc2bdd4f1d40c3b1b68caf87c20556": {
     "model_module": "@jupyter-widgets/base",
     "model_module_version": "1.2.0",
     "model_name": "LayoutModel",
     "state": {
      "_model_module": "@jupyter-widgets/base",
      "_model_module_version": "1.2.0",
      "_model_name": "LayoutModel",
      "_view_count": null,
      "_view_module": "@jupyter-widgets/base",
      "_view_module_version": "1.2.0",
      "_view_name": "LayoutView",
      "align_content": null,
      "align_items": null,
      "align_self": null,
      "border": null,
      "bottom": null,
      "display": null,
      "flex": null,
      "flex_flow": null,
      "grid_area": null,
      "grid_auto_columns": null,
      "grid_auto_flow": null,
      "grid_auto_rows": null,
      "grid_column": null,
      "grid_gap": null,
      "grid_row": null,
      "grid_template_areas": null,
      "grid_template_columns": null,
      "grid_template_rows": null,
      "height": null,
      "justify_content": null,
      "justify_items": null,
      "left": null,
      "margin": null,
      "max_height": null,
      "max_width": null,
      "min_height": null,
      "min_width": null,
      "object_fit": null,
      "object_position": null,
      "order": null,
      "overflow": null,
      "overflow_x": null,
      "overflow_y": null,
      "padding": null,
      "right": null,
      "top": null,
      "visibility": null,
      "width": null
     }
    },
    "282b6e29f3554b518e9d16026b2c0993": {
     "model_module": "@jupyter-widgets/controls",
     "model_module_version": "1.5.0",
     "model_name": "DescriptionStyleModel",
     "state": {
      "_model_module": "@jupyter-widgets/controls",
      "_model_module_version": "1.5.0",
      "_model_name": "DescriptionStyleModel",
      "_view_count": null,
      "_view_module": "@jupyter-widgets/base",
      "_view_module_version": "1.2.0",
      "_view_name": "StyleView",
      "description_width": ""
     }
    },
    "2f04aa5a69fb4080bc3d706fe22ed668": {
     "model_module": "@jupyter-widgets/controls",
     "model_module_version": "1.5.0",
     "model_name": "HBoxModel",
     "state": {
      "_dom_classes": [],
      "_model_module": "@jupyter-widgets/controls",
      "_model_module_version": "1.5.0",
      "_model_name": "HBoxModel",
      "_view_count": null,
      "_view_module": "@jupyter-widgets/controls",
      "_view_module_version": "1.5.0",
      "_view_name": "HBoxView",
      "box_style": "",
      "children": [
       "IPY_MODEL_8ff4bce6a7d94a8fa6ad9ea9de440115",
       "IPY_MODEL_d4d8fd8a60e547919ad31626c9dfe8ef",
       "IPY_MODEL_4ec4a6a8ede1478aafce0da43d7112c4"
      ],
      "layout": "IPY_MODEL_caeaa7b9c10a4027a4fb22249c40b11f"
     }
    },
    "38e039b9520d48aba72680d1cfb4eca1": {
     "model_module": "@jupyter-widgets/base",
     "model_module_version": "1.2.0",
     "model_name": "LayoutModel",
     "state": {
      "_model_module": "@jupyter-widgets/base",
      "_model_module_version": "1.2.0",
      "_model_name": "LayoutModel",
      "_view_count": null,
      "_view_module": "@jupyter-widgets/base",
      "_view_module_version": "1.2.0",
      "_view_name": "LayoutView",
      "align_content": null,
      "align_items": null,
      "align_self": null,
      "border": null,
      "bottom": null,
      "display": null,
      "flex": null,
      "flex_flow": null,
      "grid_area": null,
      "grid_auto_columns": null,
      "grid_auto_flow": null,
      "grid_auto_rows": null,
      "grid_column": null,
      "grid_gap": null,
      "grid_row": null,
      "grid_template_areas": null,
      "grid_template_columns": null,
      "grid_template_rows": null,
      "height": null,
      "justify_content": null,
      "justify_items": null,
      "left": null,
      "margin": null,
      "max_height": null,
      "max_width": null,
      "min_height": null,
      "min_width": null,
      "object_fit": null,
      "object_position": null,
      "order": null,
      "overflow": null,
      "overflow_x": null,
      "overflow_y": null,
      "padding": null,
      "right": null,
      "top": null,
      "visibility": null,
      "width": null
     }
    },
    "3ad20e9b832942cfbf12870615265fdd": {
     "model_module": "@jupyter-widgets/controls",
     "model_module_version": "1.5.0",
     "model_name": "HTMLModel",
     "state": {
      "_dom_classes": [],
      "_model_module": "@jupyter-widgets/controls",
      "_model_module_version": "1.5.0",
      "_model_name": "HTMLModel",
      "_view_count": null,
      "_view_module": "@jupyter-widgets/controls",
      "_view_module_version": "1.5.0",
      "_view_name": "HTMLView",
      "description": "",
      "description_tooltip": null,
      "layout": "IPY_MODEL_3d8c2e9adf5a454d873a81f04f93c0a8",
      "placeholder": "​",
      "style": "IPY_MODEL_f699d128444a4cc19c1d5cfe14c9ed6c",
      "value": " 5120/? [00:00&lt;00:00, 138549.12it/s]"
     }
    },
    "3d163e25a97b4949bdb38cc8947c62a3": {
     "model_module": "@jupyter-widgets/controls",
     "model_module_version": "1.5.0",
     "model_name": "DescriptionStyleModel",
     "state": {
      "_model_module": "@jupyter-widgets/controls",
      "_model_module_version": "1.5.0",
      "_model_name": "DescriptionStyleModel",
      "_view_count": null,
      "_view_module": "@jupyter-widgets/base",
      "_view_module_version": "1.2.0",
      "_view_name": "StyleView",
      "description_width": ""
     }
    },
    "3d8c2e9adf5a454d873a81f04f93c0a8": {
     "model_module": "@jupyter-widgets/base",
     "model_module_version": "1.2.0",
     "model_name": "LayoutModel",
     "state": {
      "_model_module": "@jupyter-widgets/base",
      "_model_module_version": "1.2.0",
      "_model_name": "LayoutModel",
      "_view_count": null,
      "_view_module": "@jupyter-widgets/base",
      "_view_module_version": "1.2.0",
      "_view_name": "LayoutView",
      "align_content": null,
      "align_items": null,
      "align_self": null,
      "border": null,
      "bottom": null,
      "display": null,
      "flex": null,
      "flex_flow": null,
      "grid_area": null,
      "grid_auto_columns": null,
      "grid_auto_flow": null,
      "grid_auto_rows": null,
      "grid_column": null,
      "grid_gap": null,
      "grid_row": null,
      "grid_template_areas": null,
      "grid_template_columns": null,
      "grid_template_rows": null,
      "height": null,
      "justify_content": null,
      "justify_items": null,
      "left": null,
      "margin": null,
      "max_height": null,
      "max_width": null,
      "min_height": null,
      "min_width": null,
      "object_fit": null,
      "object_position": null,
      "order": null,
      "overflow": null,
      "overflow_x": null,
      "overflow_y": null,
      "padding": null,
      "right": null,
      "top": null,
      "visibility": null,
      "width": null
     }
    },
    "4150e58823624892921eef95b20aa456": {
     "model_module": "@jupyter-widgets/controls",
     "model_module_version": "1.5.0",
     "model_name": "HTMLModel",
     "state": {
      "_dom_classes": [],
      "_model_module": "@jupyter-widgets/controls",
      "_model_module_version": "1.5.0",
      "_model_name": "HTMLModel",
      "_view_count": null,
      "_view_module": "@jupyter-widgets/controls",
      "_view_module_version": "1.5.0",
      "_view_name": "HTMLView",
      "description": "",
      "description_tooltip": null,
      "layout": "IPY_MODEL_e342f8d73f9b4028bb6874c4e68d5fb6",
      "placeholder": "​",
      "style": "IPY_MODEL_282b6e29f3554b518e9d16026b2c0993",
      "value": ""
     }
    },
    "474ed1e3841f4ea2a1ee049ed55d1b55": {
     "model_module": "@jupyter-widgets/controls",
     "model_module_version": "1.5.0",
     "model_name": "ProgressStyleModel",
     "state": {
      "_model_module": "@jupyter-widgets/controls",
      "_model_module_version": "1.5.0",
      "_model_name": "ProgressStyleModel",
      "_view_count": null,
      "_view_module": "@jupyter-widgets/base",
      "_view_module_version": "1.2.0",
      "_view_name": "StyleView",
      "bar_color": null,
      "description_width": ""
     }
    },
    "4e5f74690bf84fe48ef5025ccf8b7399": {
     "model_module": "@jupyter-widgets/controls",
     "model_module_version": "1.5.0",
     "model_name": "HTMLModel",
     "state": {
      "_dom_classes": [],
      "_model_module": "@jupyter-widgets/controls",
      "_model_module_version": "1.5.0",
      "_model_name": "HTMLModel",
      "_view_count": null,
      "_view_module": "@jupyter-widgets/controls",
      "_view_module_version": "1.5.0",
      "_view_name": "HTMLView",
      "description": "",
      "description_tooltip": null,
      "layout": "IPY_MODEL_9955f32133b943078f3ffba9c812c08a",
      "placeholder": "​",
      "style": "IPY_MODEL_80d13af5b473458cbf5b76c6a3b9f9ad",
      "value": ""
     }
    },
    "4ec4a6a8ede1478aafce0da43d7112c4": {
     "model_module": "@jupyter-widgets/controls",
     "model_module_version": "1.5.0",
     "model_name": "HTMLModel",
     "state": {
      "_dom_classes": [],
      "_model_module": "@jupyter-widgets/controls",
      "_model_module_version": "1.5.0",
      "_model_name": "HTMLModel",
      "_view_count": null,
      "_view_module": "@jupyter-widgets/controls",
      "_view_module_version": "1.5.0",
      "_view_name": "HTMLView",
      "description": "",
      "description_tooltip": null,
      "layout": "IPY_MODEL_df6be0b61e6e47e19b17566fc825508a",
      "placeholder": "​",
      "style": "IPY_MODEL_8fa58f9e09c94f8f899149d653b253a9",
      "value": " 9913344/? [00:00&lt;00:00, 20652638.00it/s]"
     }
    },
    "503f3fec26f747b58a622e8fd67f8470": {
     "model_module": "@jupyter-widgets/controls",
     "model_module_version": "1.5.0",
     "model_name": "DescriptionStyleModel",
     "state": {
      "_model_module": "@jupyter-widgets/controls",
      "_model_module_version": "1.5.0",
      "_model_name": "DescriptionStyleModel",
      "_view_count": null,
      "_view_module": "@jupyter-widgets/base",
      "_view_module_version": "1.2.0",
      "_view_name": "StyleView",
      "description_width": ""
     }
    },
    "529b502589bf45758985dd0bd224ce31": {
     "model_module": "@jupyter-widgets/controls",
     "model_module_version": "1.5.0",
     "model_name": "ProgressStyleModel",
     "state": {
      "_model_module": "@jupyter-widgets/controls",
      "_model_module_version": "1.5.0",
      "_model_name": "ProgressStyleModel",
      "_view_count": null,
      "_view_module": "@jupyter-widgets/base",
      "_view_module_version": "1.2.0",
      "_view_name": "StyleView",
      "bar_color": null,
      "description_width": ""
     }
    },
    "59e4089fa17f4316985153a221637b61": {
     "model_module": "@jupyter-widgets/controls",
     "model_module_version": "1.5.0",
     "model_name": "HBoxModel",
     "state": {
      "_dom_classes": [],
      "_model_module": "@jupyter-widgets/controls",
      "_model_module_version": "1.5.0",
      "_model_name": "HBoxModel",
      "_view_count": null,
      "_view_module": "@jupyter-widgets/controls",
      "_view_module_version": "1.5.0",
      "_view_name": "HBoxView",
      "box_style": "",
      "children": [
       "IPY_MODEL_4e5f74690bf84fe48ef5025ccf8b7399",
       "IPY_MODEL_c9a55cf1a01849a5887e77e8760de39d",
       "IPY_MODEL_3ad20e9b832942cfbf12870615265fdd"
      ],
      "layout": "IPY_MODEL_e54309b7059f4839b22c97731d56553f"
     }
    },
    "63c64093e8de47dc81225a38893322ef": {
     "model_module": "@jupyter-widgets/base",
     "model_module_version": "1.2.0",
     "model_name": "LayoutModel",
     "state": {
      "_model_module": "@jupyter-widgets/base",
      "_model_module_version": "1.2.0",
      "_model_name": "LayoutModel",
      "_view_count": null,
      "_view_module": "@jupyter-widgets/base",
      "_view_module_version": "1.2.0",
      "_view_name": "LayoutView",
      "align_content": null,
      "align_items": null,
      "align_self": null,
      "border": null,
      "bottom": null,
      "display": null,
      "flex": null,
      "flex_flow": null,
      "grid_area": null,
      "grid_auto_columns": null,
      "grid_auto_flow": null,
      "grid_auto_rows": null,
      "grid_column": null,
      "grid_gap": null,
      "grid_row": null,
      "grid_template_areas": null,
      "grid_template_columns": null,
      "grid_template_rows": null,
      "height": null,
      "justify_content": null,
      "justify_items": null,
      "left": null,
      "margin": null,
      "max_height": null,
      "max_width": null,
      "min_height": null,
      "min_width": null,
      "object_fit": null,
      "object_position": null,
      "order": null,
      "overflow": null,
      "overflow_x": null,
      "overflow_y": null,
      "padding": null,
      "right": null,
      "top": null,
      "visibility": null,
      "width": null
     }
    },
    "7e831abbfe0f4af1aadcc31ceaf22349": {
     "model_module": "@jupyter-widgets/controls",
     "model_module_version": "1.5.0",
     "model_name": "FloatProgressModel",
     "state": {
      "_dom_classes": [],
      "_model_module": "@jupyter-widgets/controls",
      "_model_module_version": "1.5.0",
      "_model_name": "FloatProgressModel",
      "_view_count": null,
      "_view_module": "@jupyter-widgets/controls",
      "_view_module_version": "1.5.0",
      "_view_name": "ProgressView",
      "bar_style": "success",
      "description": "",
      "description_tooltip": null,
      "layout": "IPY_MODEL_0ffc2bdd4f1d40c3b1b68caf87c20556",
      "max": 28881,
      "min": 0,
      "orientation": "horizontal",
      "style": "IPY_MODEL_f161f9442af24bbeb0b27a611802978c",
      "value": 28881
     }
    },
    "7f969245d7b840e9982742e417cee74e": {
     "model_module": "@jupyter-widgets/controls",
     "model_module_version": "1.5.0",
     "model_name": "DescriptionStyleModel",
     "state": {
      "_model_module": "@jupyter-widgets/controls",
      "_model_module_version": "1.5.0",
      "_model_name": "DescriptionStyleModel",
      "_view_count": null,
      "_view_module": "@jupyter-widgets/base",
      "_view_module_version": "1.2.0",
      "_view_name": "StyleView",
      "description_width": ""
     }
    },
    "80d13af5b473458cbf5b76c6a3b9f9ad": {
     "model_module": "@jupyter-widgets/controls",
     "model_module_version": "1.5.0",
     "model_name": "DescriptionStyleModel",
     "state": {
      "_model_module": "@jupyter-widgets/controls",
      "_model_module_version": "1.5.0",
      "_model_name": "DescriptionStyleModel",
      "_view_count": null,
      "_view_module": "@jupyter-widgets/base",
      "_view_module_version": "1.2.0",
      "_view_name": "StyleView",
      "description_width": ""
     }
    },
    "8830397816c543879159c973cfeceddc": {
     "model_module": "@jupyter-widgets/base",
     "model_module_version": "1.2.0",
     "model_name": "LayoutModel",
     "state": {
      "_model_module": "@jupyter-widgets/base",
      "_model_module_version": "1.2.0",
      "_model_name": "LayoutModel",
      "_view_count": null,
      "_view_module": "@jupyter-widgets/base",
      "_view_module_version": "1.2.0",
      "_view_name": "LayoutView",
      "align_content": null,
      "align_items": null,
      "align_self": null,
      "border": null,
      "bottom": null,
      "display": null,
      "flex": null,
      "flex_flow": null,
      "grid_area": null,
      "grid_auto_columns": null,
      "grid_auto_flow": null,
      "grid_auto_rows": null,
      "grid_column": null,
      "grid_gap": null,
      "grid_row": null,
      "grid_template_areas": null,
      "grid_template_columns": null,
      "grid_template_rows": null,
      "height": null,
      "justify_content": null,
      "justify_items": null,
      "left": null,
      "margin": null,
      "max_height": null,
      "max_width": null,
      "min_height": null,
      "min_width": null,
      "object_fit": null,
      "object_position": null,
      "order": null,
      "overflow": null,
      "overflow_x": null,
      "overflow_y": null,
      "padding": null,
      "right": null,
      "top": null,
      "visibility": null,
      "width": null
     }
    },
    "8fa58f9e09c94f8f899149d653b253a9": {
     "model_module": "@jupyter-widgets/controls",
     "model_module_version": "1.5.0",
     "model_name": "DescriptionStyleModel",
     "state": {
      "_model_module": "@jupyter-widgets/controls",
      "_model_module_version": "1.5.0",
      "_model_name": "DescriptionStyleModel",
      "_view_count": null,
      "_view_module": "@jupyter-widgets/base",
      "_view_module_version": "1.2.0",
      "_view_name": "StyleView",
      "description_width": ""
     }
    },
    "8ff4bce6a7d94a8fa6ad9ea9de440115": {
     "model_module": "@jupyter-widgets/controls",
     "model_module_version": "1.5.0",
     "model_name": "HTMLModel",
     "state": {
      "_dom_classes": [],
      "_model_module": "@jupyter-widgets/controls",
      "_model_module_version": "1.5.0",
      "_model_name": "HTMLModel",
      "_view_count": null,
      "_view_module": "@jupyter-widgets/controls",
      "_view_module_version": "1.5.0",
      "_view_name": "HTMLView",
      "description": "",
      "description_tooltip": null,
      "layout": "IPY_MODEL_8830397816c543879159c973cfeceddc",
      "placeholder": "​",
      "style": "IPY_MODEL_503f3fec26f747b58a622e8fd67f8470",
      "value": ""
     }
    },
    "926d6419e70a45b9a0212b8d2541fd15": {
     "model_module": "@jupyter-widgets/controls",
     "model_module_version": "1.5.0",
     "model_name": "DescriptionStyleModel",
     "state": {
      "_model_module": "@jupyter-widgets/controls",
      "_model_module_version": "1.5.0",
      "_model_name": "DescriptionStyleModel",
      "_view_count": null,
      "_view_module": "@jupyter-widgets/base",
      "_view_module_version": "1.2.0",
      "_view_name": "StyleView",
      "description_width": ""
     }
    },
    "938b6e2edb0a457bb2815926587767cc": {
     "model_module": "@jupyter-widgets/base",
     "model_module_version": "1.2.0",
     "model_name": "LayoutModel",
     "state": {
      "_model_module": "@jupyter-widgets/base",
      "_model_module_version": "1.2.0",
      "_model_name": "LayoutModel",
      "_view_count": null,
      "_view_module": "@jupyter-widgets/base",
      "_view_module_version": "1.2.0",
      "_view_name": "LayoutView",
      "align_content": null,
      "align_items": null,
      "align_self": null,
      "border": null,
      "bottom": null,
      "display": null,
      "flex": null,
      "flex_flow": null,
      "grid_area": null,
      "grid_auto_columns": null,
      "grid_auto_flow": null,
      "grid_auto_rows": null,
      "grid_column": null,
      "grid_gap": null,
      "grid_row": null,
      "grid_template_areas": null,
      "grid_template_columns": null,
      "grid_template_rows": null,
      "height": null,
      "justify_content": null,
      "justify_items": null,
      "left": null,
      "margin": null,
      "max_height": null,
      "max_width": null,
      "min_height": null,
      "min_width": null,
      "object_fit": null,
      "object_position": null,
      "order": null,
      "overflow": null,
      "overflow_x": null,
      "overflow_y": null,
      "padding": null,
      "right": null,
      "top": null,
      "visibility": null,
      "width": null
     }
    },
    "94898606092549e09706b2bb038420a9": {
     "model_module": "@jupyter-widgets/controls",
     "model_module_version": "1.5.0",
     "model_name": "HTMLModel",
     "state": {
      "_dom_classes": [],
      "_model_module": "@jupyter-widgets/controls",
      "_model_module_version": "1.5.0",
      "_model_name": "HTMLModel",
      "_view_count": null,
      "_view_module": "@jupyter-widgets/controls",
      "_view_module_version": "1.5.0",
      "_view_name": "HTMLView",
      "description": "",
      "description_tooltip": null,
      "layout": "IPY_MODEL_a94b5bbd8a664a448e77dbbb80a8e16b",
      "placeholder": "​",
      "style": "IPY_MODEL_7f969245d7b840e9982742e417cee74e",
      "value": " 1649664/? [00:00&lt;00:00, 7047115.93it/s]"
     }
    },
    "9955f32133b943078f3ffba9c812c08a": {
     "model_module": "@jupyter-widgets/base",
     "model_module_version": "1.2.0",
     "model_name": "LayoutModel",
     "state": {
      "_model_module": "@jupyter-widgets/base",
      "_model_module_version": "1.2.0",
      "_model_name": "LayoutModel",
      "_view_count": null,
      "_view_module": "@jupyter-widgets/base",
      "_view_module_version": "1.2.0",
      "_view_name": "LayoutView",
      "align_content": null,
      "align_items": null,
      "align_self": null,
      "border": null,
      "bottom": null,
      "display": null,
      "flex": null,
      "flex_flow": null,
      "grid_area": null,
      "grid_auto_columns": null,
      "grid_auto_flow": null,
      "grid_auto_rows": null,
      "grid_column": null,
      "grid_gap": null,
      "grid_row": null,
      "grid_template_areas": null,
      "grid_template_columns": null,
      "grid_template_rows": null,
      "height": null,
      "justify_content": null,
      "justify_items": null,
      "left": null,
      "margin": null,
      "max_height": null,
      "max_width": null,
      "min_height": null,
      "min_width": null,
      "object_fit": null,
      "object_position": null,
      "order": null,
      "overflow": null,
      "overflow_x": null,
      "overflow_y": null,
      "padding": null,
      "right": null,
      "top": null,
      "visibility": null,
      "width": null
     }
    },
    "9bdd48e34ca3405bbcdd3e13d80e2df9": {
     "model_module": "@jupyter-widgets/base",
     "model_module_version": "1.2.0",
     "model_name": "LayoutModel",
     "state": {
      "_model_module": "@jupyter-widgets/base",
      "_model_module_version": "1.2.0",
      "_model_name": "LayoutModel",
      "_view_count": null,
      "_view_module": "@jupyter-widgets/base",
      "_view_module_version": "1.2.0",
      "_view_name": "LayoutView",
      "align_content": null,
      "align_items": null,
      "align_self": null,
      "border": null,
      "bottom": null,
      "display": null,
      "flex": null,
      "flex_flow": null,
      "grid_area": null,
      "grid_auto_columns": null,
      "grid_auto_flow": null,
      "grid_auto_rows": null,
      "grid_column": null,
      "grid_gap": null,
      "grid_row": null,
      "grid_template_areas": null,
      "grid_template_columns": null,
      "grid_template_rows": null,
      "height": null,
      "justify_content": null,
      "justify_items": null,
      "left": null,
      "margin": null,
      "max_height": null,
      "max_width": null,
      "min_height": null,
      "min_width": null,
      "object_fit": null,
      "object_position": null,
      "order": null,
      "overflow": null,
      "overflow_x": null,
      "overflow_y": null,
      "padding": null,
      "right": null,
      "top": null,
      "visibility": null,
      "width": null
     }
    },
    "a2cc5570b2084b1a98810dbdf4b7ad3e": {
     "model_module": "@jupyter-widgets/base",
     "model_module_version": "1.2.0",
     "model_name": "LayoutModel",
     "state": {
      "_model_module": "@jupyter-widgets/base",
      "_model_module_version": "1.2.0",
      "_model_name": "LayoutModel",
      "_view_count": null,
      "_view_module": "@jupyter-widgets/base",
      "_view_module_version": "1.2.0",
      "_view_name": "LayoutView",
      "align_content": null,
      "align_items": null,
      "align_self": null,
      "border": null,
      "bottom": null,
      "display": null,
      "flex": null,
      "flex_flow": null,
      "grid_area": null,
      "grid_auto_columns": null,
      "grid_auto_flow": null,
      "grid_auto_rows": null,
      "grid_column": null,
      "grid_gap": null,
      "grid_row": null,
      "grid_template_areas": null,
      "grid_template_columns": null,
      "grid_template_rows": null,
      "height": null,
      "justify_content": null,
      "justify_items": null,
      "left": null,
      "margin": null,
      "max_height": null,
      "max_width": null,
      "min_height": null,
      "min_width": null,
      "object_fit": null,
      "object_position": null,
      "order": null,
      "overflow": null,
      "overflow_x": null,
      "overflow_y": null,
      "padding": null,
      "right": null,
      "top": null,
      "visibility": null,
      "width": null
     }
    },
    "a75858fb771e4ae6ab64dad424feaa76": {
     "model_module": "@jupyter-widgets/controls",
     "model_module_version": "1.5.0",
     "model_name": "HTMLModel",
     "state": {
      "_dom_classes": [],
      "_model_module": "@jupyter-widgets/controls",
      "_model_module_version": "1.5.0",
      "_model_name": "HTMLModel",
      "_view_count": null,
      "_view_module": "@jupyter-widgets/controls",
      "_view_module_version": "1.5.0",
      "_view_name": "HTMLView",
      "description": "",
      "description_tooltip": null,
      "layout": "IPY_MODEL_ecdfac827f77462a96acb08901fa8b42",
      "placeholder": "​",
      "style": "IPY_MODEL_3d163e25a97b4949bdb38cc8947c62a3",
      "value": " 29696/? [00:00&lt;00:00, 825856.67it/s]"
     }
    },
    "a94b5bbd8a664a448e77dbbb80a8e16b": {
     "model_module": "@jupyter-widgets/base",
     "model_module_version": "1.2.0",
     "model_name": "LayoutModel",
     "state": {
      "_model_module": "@jupyter-widgets/base",
      "_model_module_version": "1.2.0",
      "_model_name": "LayoutModel",
      "_view_count": null,
      "_view_module": "@jupyter-widgets/base",
      "_view_module_version": "1.2.0",
      "_view_name": "LayoutView",
      "align_content": null,
      "align_items": null,
      "align_self": null,
      "border": null,
      "bottom": null,
      "display": null,
      "flex": null,
      "flex_flow": null,
      "grid_area": null,
      "grid_auto_columns": null,
      "grid_auto_flow": null,
      "grid_auto_rows": null,
      "grid_column": null,
      "grid_gap": null,
      "grid_row": null,
      "grid_template_areas": null,
      "grid_template_columns": null,
      "grid_template_rows": null,
      "height": null,
      "justify_content": null,
      "justify_items": null,
      "left": null,
      "margin": null,
      "max_height": null,
      "max_width": null,
      "min_height": null,
      "min_width": null,
      "object_fit": null,
      "object_position": null,
      "order": null,
      "overflow": null,
      "overflow_x": null,
      "overflow_y": null,
      "padding": null,
      "right": null,
      "top": null,
      "visibility": null,
      "width": null
     }
    },
    "aca3c7f238fd4baab3c295cb55355636": {
     "model_module": "@jupyter-widgets/controls",
     "model_module_version": "1.5.0",
     "model_name": "HTMLModel",
     "state": {
      "_dom_classes": [],
      "_model_module": "@jupyter-widgets/controls",
      "_model_module_version": "1.5.0",
      "_model_name": "HTMLModel",
      "_view_count": null,
      "_view_module": "@jupyter-widgets/controls",
      "_view_module_version": "1.5.0",
      "_view_name": "HTMLView",
      "description": "",
      "description_tooltip": null,
      "layout": "IPY_MODEL_38e039b9520d48aba72680d1cfb4eca1",
      "placeholder": "​",
      "style": "IPY_MODEL_926d6419e70a45b9a0212b8d2541fd15",
      "value": ""
     }
    },
    "b46855e722f6450b83edea6afd137dc7": {
     "model_module": "@jupyter-widgets/controls",
     "model_module_version": "1.5.0",
     "model_name": "HBoxModel",
     "state": {
      "_dom_classes": [],
      "_model_module": "@jupyter-widgets/controls",
      "_model_module_version": "1.5.0",
      "_model_name": "HBoxModel",
      "_view_count": null,
      "_view_module": "@jupyter-widgets/controls",
      "_view_module_version": "1.5.0",
      "_view_name": "HBoxView",
      "box_style": "",
      "children": [
       "IPY_MODEL_aca3c7f238fd4baab3c295cb55355636",
       "IPY_MODEL_7e831abbfe0f4af1aadcc31ceaf22349",
       "IPY_MODEL_a75858fb771e4ae6ab64dad424feaa76"
      ],
      "layout": "IPY_MODEL_938b6e2edb0a457bb2815926587767cc"
     }
    },
    "c9a55cf1a01849a5887e77e8760de39d": {
     "model_module": "@jupyter-widgets/controls",
     "model_module_version": "1.5.0",
     "model_name": "FloatProgressModel",
     "state": {
      "_dom_classes": [],
      "_model_module": "@jupyter-widgets/controls",
      "_model_module_version": "1.5.0",
      "_model_name": "FloatProgressModel",
      "_view_count": null,
      "_view_module": "@jupyter-widgets/controls",
      "_view_module_version": "1.5.0",
      "_view_name": "ProgressView",
      "bar_style": "success",
      "description": "",
      "description_tooltip": null,
      "layout": "IPY_MODEL_9bdd48e34ca3405bbcdd3e13d80e2df9",
      "max": 4542,
      "min": 0,
      "orientation": "horizontal",
      "style": "IPY_MODEL_e2fba9be29b94949854e0f9baf980ef5",
      "value": 4542
     }
    },
    "caeaa7b9c10a4027a4fb22249c40b11f": {
     "model_module": "@jupyter-widgets/base",
     "model_module_version": "1.2.0",
     "model_name": "LayoutModel",
     "state": {
      "_model_module": "@jupyter-widgets/base",
      "_model_module_version": "1.2.0",
      "_model_name": "LayoutModel",
      "_view_count": null,
      "_view_module": "@jupyter-widgets/base",
      "_view_module_version": "1.2.0",
      "_view_name": "LayoutView",
      "align_content": null,
      "align_items": null,
      "align_self": null,
      "border": null,
      "bottom": null,
      "display": null,
      "flex": null,
      "flex_flow": null,
      "grid_area": null,
      "grid_auto_columns": null,
      "grid_auto_flow": null,
      "grid_auto_rows": null,
      "grid_column": null,
      "grid_gap": null,
      "grid_row": null,
      "grid_template_areas": null,
      "grid_template_columns": null,
      "grid_template_rows": null,
      "height": null,
      "justify_content": null,
      "justify_items": null,
      "left": null,
      "margin": null,
      "max_height": null,
      "max_width": null,
      "min_height": null,
      "min_width": null,
      "object_fit": null,
      "object_position": null,
      "order": null,
      "overflow": null,
      "overflow_x": null,
      "overflow_y": null,
      "padding": null,
      "right": null,
      "top": null,
      "visibility": null,
      "width": null
     }
    },
    "d4d8fd8a60e547919ad31626c9dfe8ef": {
     "model_module": "@jupyter-widgets/controls",
     "model_module_version": "1.5.0",
     "model_name": "FloatProgressModel",
     "state": {
      "_dom_classes": [],
      "_model_module": "@jupyter-widgets/controls",
      "_model_module_version": "1.5.0",
      "_model_name": "FloatProgressModel",
      "_view_count": null,
      "_view_module": "@jupyter-widgets/controls",
      "_view_module_version": "1.5.0",
      "_view_name": "ProgressView",
      "bar_style": "success",
      "description": "",
      "description_tooltip": null,
      "layout": "IPY_MODEL_63c64093e8de47dc81225a38893322ef",
      "max": 9912422,
      "min": 0,
      "orientation": "horizontal",
      "style": "IPY_MODEL_474ed1e3841f4ea2a1ee049ed55d1b55",
      "value": 9912422
     }
    },
    "df6be0b61e6e47e19b17566fc825508a": {
     "model_module": "@jupyter-widgets/base",
     "model_module_version": "1.2.0",
     "model_name": "LayoutModel",
     "state": {
      "_model_module": "@jupyter-widgets/base",
      "_model_module_version": "1.2.0",
      "_model_name": "LayoutModel",
      "_view_count": null,
      "_view_module": "@jupyter-widgets/base",
      "_view_module_version": "1.2.0",
      "_view_name": "LayoutView",
      "align_content": null,
      "align_items": null,
      "align_self": null,
      "border": null,
      "bottom": null,
      "display": null,
      "flex": null,
      "flex_flow": null,
      "grid_area": null,
      "grid_auto_columns": null,
      "grid_auto_flow": null,
      "grid_auto_rows": null,
      "grid_column": null,
      "grid_gap": null,
      "grid_row": null,
      "grid_template_areas": null,
      "grid_template_columns": null,
      "grid_template_rows": null,
      "height": null,
      "justify_content": null,
      "justify_items": null,
      "left": null,
      "margin": null,
      "max_height": null,
      "max_width": null,
      "min_height": null,
      "min_width": null,
      "object_fit": null,
      "object_position": null,
      "order": null,
      "overflow": null,
      "overflow_x": null,
      "overflow_y": null,
      "padding": null,
      "right": null,
      "top": null,
      "visibility": null,
      "width": null
     }
    },
    "e2fba9be29b94949854e0f9baf980ef5": {
     "model_module": "@jupyter-widgets/controls",
     "model_module_version": "1.5.0",
     "model_name": "ProgressStyleModel",
     "state": {
      "_model_module": "@jupyter-widgets/controls",
      "_model_module_version": "1.5.0",
      "_model_name": "ProgressStyleModel",
      "_view_count": null,
      "_view_module": "@jupyter-widgets/base",
      "_view_module_version": "1.2.0",
      "_view_name": "StyleView",
      "bar_color": null,
      "description_width": ""
     }
    },
    "e342f8d73f9b4028bb6874c4e68d5fb6": {
     "model_module": "@jupyter-widgets/base",
     "model_module_version": "1.2.0",
     "model_name": "LayoutModel",
     "state": {
      "_model_module": "@jupyter-widgets/base",
      "_model_module_version": "1.2.0",
      "_model_name": "LayoutModel",
      "_view_count": null,
      "_view_module": "@jupyter-widgets/base",
      "_view_module_version": "1.2.0",
      "_view_name": "LayoutView",
      "align_content": null,
      "align_items": null,
      "align_self": null,
      "border": null,
      "bottom": null,
      "display": null,
      "flex": null,
      "flex_flow": null,
      "grid_area": null,
      "grid_auto_columns": null,
      "grid_auto_flow": null,
      "grid_auto_rows": null,
      "grid_column": null,
      "grid_gap": null,
      "grid_row": null,
      "grid_template_areas": null,
      "grid_template_columns": null,
      "grid_template_rows": null,
      "height": null,
      "justify_content": null,
      "justify_items": null,
      "left": null,
      "margin": null,
      "max_height": null,
      "max_width": null,
      "min_height": null,
      "min_width": null,
      "object_fit": null,
      "object_position": null,
      "order": null,
      "overflow": null,
      "overflow_x": null,
      "overflow_y": null,
      "padding": null,
      "right": null,
      "top": null,
      "visibility": null,
      "width": null
     }
    },
    "e54309b7059f4839b22c97731d56553f": {
     "model_module": "@jupyter-widgets/base",
     "model_module_version": "1.2.0",
     "model_name": "LayoutModel",
     "state": {
      "_model_module": "@jupyter-widgets/base",
      "_model_module_version": "1.2.0",
      "_model_name": "LayoutModel",
      "_view_count": null,
      "_view_module": "@jupyter-widgets/base",
      "_view_module_version": "1.2.0",
      "_view_name": "LayoutView",
      "align_content": null,
      "align_items": null,
      "align_self": null,
      "border": null,
      "bottom": null,
      "display": null,
      "flex": null,
      "flex_flow": null,
      "grid_area": null,
      "grid_auto_columns": null,
      "grid_auto_flow": null,
      "grid_auto_rows": null,
      "grid_column": null,
      "grid_gap": null,
      "grid_row": null,
      "grid_template_areas": null,
      "grid_template_columns": null,
      "grid_template_rows": null,
      "height": null,
      "justify_content": null,
      "justify_items": null,
      "left": null,
      "margin": null,
      "max_height": null,
      "max_width": null,
      "min_height": null,
      "min_width": null,
      "object_fit": null,
      "object_position": null,
      "order": null,
      "overflow": null,
      "overflow_x": null,
      "overflow_y": null,
      "padding": null,
      "right": null,
      "top": null,
      "visibility": null,
      "width": null
     }
    },
    "e8e336777bbe4e568888fd220bac5b74": {
     "model_module": "@jupyter-widgets/controls",
     "model_module_version": "1.5.0",
     "model_name": "HBoxModel",
     "state": {
      "_dom_classes": [],
      "_model_module": "@jupyter-widgets/controls",
      "_model_module_version": "1.5.0",
      "_model_name": "HBoxModel",
      "_view_count": null,
      "_view_module": "@jupyter-widgets/controls",
      "_view_module_version": "1.5.0",
      "_view_name": "HBoxView",
      "box_style": "",
      "children": [
       "IPY_MODEL_4150e58823624892921eef95b20aa456",
       "IPY_MODEL_fd046e6d200d40c4aa74ea7316df2f7b",
       "IPY_MODEL_94898606092549e09706b2bb038420a9"
      ],
      "layout": "IPY_MODEL_0160b271aeea45209281767fed74453c"
     }
    },
    "ecdfac827f77462a96acb08901fa8b42": {
     "model_module": "@jupyter-widgets/base",
     "model_module_version": "1.2.0",
     "model_name": "LayoutModel",
     "state": {
      "_model_module": "@jupyter-widgets/base",
      "_model_module_version": "1.2.0",
      "_model_name": "LayoutModel",
      "_view_count": null,
      "_view_module": "@jupyter-widgets/base",
      "_view_module_version": "1.2.0",
      "_view_name": "LayoutView",
      "align_content": null,
      "align_items": null,
      "align_self": null,
      "border": null,
      "bottom": null,
      "display": null,
      "flex": null,
      "flex_flow": null,
      "grid_area": null,
      "grid_auto_columns": null,
      "grid_auto_flow": null,
      "grid_auto_rows": null,
      "grid_column": null,
      "grid_gap": null,
      "grid_row": null,
      "grid_template_areas": null,
      "grid_template_columns": null,
      "grid_template_rows": null,
      "height": null,
      "justify_content": null,
      "justify_items": null,
      "left": null,
      "margin": null,
      "max_height": null,
      "max_width": null,
      "min_height": null,
      "min_width": null,
      "object_fit": null,
      "object_position": null,
      "order": null,
      "overflow": null,
      "overflow_x": null,
      "overflow_y": null,
      "padding": null,
      "right": null,
      "top": null,
      "visibility": null,
      "width": null
     }
    },
    "f161f9442af24bbeb0b27a611802978c": {
     "model_module": "@jupyter-widgets/controls",
     "model_module_version": "1.5.0",
     "model_name": "ProgressStyleModel",
     "state": {
      "_model_module": "@jupyter-widgets/controls",
      "_model_module_version": "1.5.0",
      "_model_name": "ProgressStyleModel",
      "_view_count": null,
      "_view_module": "@jupyter-widgets/base",
      "_view_module_version": "1.2.0",
      "_view_name": "StyleView",
      "bar_color": null,
      "description_width": ""
     }
    },
    "f699d128444a4cc19c1d5cfe14c9ed6c": {
     "model_module": "@jupyter-widgets/controls",
     "model_module_version": "1.5.0",
     "model_name": "DescriptionStyleModel",
     "state": {
      "_model_module": "@jupyter-widgets/controls",
      "_model_module_version": "1.5.0",
      "_model_name": "DescriptionStyleModel",
      "_view_count": null,
      "_view_module": "@jupyter-widgets/base",
      "_view_module_version": "1.2.0",
      "_view_name": "StyleView",
      "description_width": ""
     }
    },
    "fd046e6d200d40c4aa74ea7316df2f7b": {
     "model_module": "@jupyter-widgets/controls",
     "model_module_version": "1.5.0",
     "model_name": "FloatProgressModel",
     "state": {
      "_dom_classes": [],
      "_model_module": "@jupyter-widgets/controls",
      "_model_module_version": "1.5.0",
      "_model_name": "FloatProgressModel",
      "_view_count": null,
      "_view_module": "@jupyter-widgets/controls",
      "_view_module_version": "1.5.0",
      "_view_name": "ProgressView",
      "bar_style": "success",
      "description": "",
      "description_tooltip": null,
      "layout": "IPY_MODEL_a2cc5570b2084b1a98810dbdf4b7ad3e",
      "max": 1648877,
      "min": 0,
      "orientation": "horizontal",
      "style": "IPY_MODEL_529b502589bf45758985dd0bd224ce31",
      "value": 1648877
     }
    }
   }
  }
 },
 "nbformat": 4,
 "nbformat_minor": 1
}
