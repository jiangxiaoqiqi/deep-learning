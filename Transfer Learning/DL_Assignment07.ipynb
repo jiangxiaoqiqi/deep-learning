{
 "cells": [
  {
   "cell_type": "markdown",
   "metadata": {
    "id": "l0BvDamecqTZ"
   },
   "source": [
    "Assignment 7: Transfer Learning\n",
    "===============================\n",
    "\n",
    "\n",
    "Microsoft Forms Document: https://forms.office.com/r/MvPiCwh6jR\n",
    "\n",
    "\n",
    "Here, we use parts of the Fruits and Vegetables dataset that can be downloaded from Kaggle: https://www.kaggle.com/datasets/kritikseth/fruit-and-vegetable-image-recognition\n",
    "\n",
    "For this small example, I have subselected some images, which are available here: https://seafile.ifi.uzh.ch/f/72e1d9c4ef20420eb1d9/?dl=1\n",
    "\n",
    "First, we need to download and extract all our data."
   ]
  },
  {
   "cell_type": "code",
   "execution_count": null,
   "metadata": {
    "id": "Z0PdPkkZcqTc"
   },
   "outputs": [],
   "source": [
    "import os\n",
    "dataset_zip_file = \"fruits.zip\"\n",
    "if not os.path.exists(dataset_zip_file):\n",
    "  import urllib.request\n",
    "  urllib.request.urlretrieve(\"https://seafile.ifi.uzh.ch/f/72e1d9c4ef20420eb1d9/?dl=1\", dataset_zip_file)\n",
    "  print (\"Downloaded datafile\", dataset_zip_file)\n",
    "  import zipfile\n",
    "  zipfile.ZipFile(dataset_zip_file).extractall() ### extractall()方法会将 zip 文件的所有内容提取到当前工作目录"
   ]
  },
  {
   "cell_type": "markdown",
   "metadata": {
    "id": "yMUpExnxcqTd"
   },
   "source": [
    "Task 1: Data Transformation\n",
    "---------------------------\n",
    "\n",
    "We need to instantiate a proper `torchvision.transform` instance to create the same input structure as used for training our network.\n",
    "We need to combine 4 transforms, which can be compiled from the PyTorch website: https://pytorch.org/vision/stable/models.html\n",
    "\n",
    "1. We need to resize the image such that the shorter side has size 256.\n",
    "2. We need to take the center crop of size $224\\times224$ from the image.\n",
    "3. We need to convert the image into a tensor (including pixel values scaling)\n",
    "4. We need to normalize the pixel values with mean $(0.485, 0.456, 0.406)$ and standard deviation $(0.229, 0.224, 0.225)\n",
    "\n",
    "Since we will use networks pre-trained on ImageNet, we need to perform the exact same transform as used for ImageNet testing."
   ]
  },
  {
   "cell_type": "code",
   "execution_count": null,
   "metadata": {
    "id": "Czs9EJNAcqTe"
   },
   "outputs": [],
   "source": [
    "from torchvision.transforms.transforms import ToTensor\n",
    "import torch\n",
    "import torchvision\n",
    "\n",
    "imagenet_transform = torchvision.transforms.Compose([ ### 这里要用Compose，且有一个[] !!!!!!\n",
    "    torchvision.transforms.Resize(256), ### 试试直接写Resize(256); 如果我写 ([256,256]) 也可以运行，但是会有一些小影响，比如acc会变？不知道具体有什么区别\n",
    "    torchvision.transforms.CenterCrop(224),\n",
    "    torchvision.transforms.ToTensor(),\n",
    "    torchvision.transforms.Normalize((0.485,0.456,0.406),(0.229, 0.224, 0.225))\n",
    "])"
   ]
  },
  {
   "cell_type": "markdown",
   "metadata": {
    "id": "6oRWAkj9cqTe"
   },
   "source": [
    "Task 2: Dataset Loading\n",
    "-----------------------\n",
    "\n",
    "We here use the `torchvision.datasets.ImageFolder` dataset interface for processing images. \n",
    "You can use its documented `is_valid_file` parameter to distinguish between training and test set.\n",
    "The training files are all called `gallery.jpg` while test files are called `probe.jpg`.\n",
    "\n",
    "Create two datasets, one for the training set, one for the test set. Use the transform defined above."
   ]
  },
  {
   "cell_type": "code",
   "execution_count": null,
   "metadata": {
    "id": "qL02JEKkcqTe"
   },
   "outputs": [],
   "source": [
    "trainset = torchvision.datasets.ImageFolder(\n",
    "  root = \"fruits\", \n",
    "  transform = imagenet_transform,\n",
    "  is_valid_file = lambda x : \"gallery\" in x  ### is_valid_file call-back function → Use to filter some files\n",
    ")\n",
    "\n",
    "testset = torchvision.datasets.ImageFolder(\n",
    "  root = \"fruits\",\n",
    "  transform = imagenet_transform,\n",
    "  is_valid_file = lambda x : \"probe\" in x\n",
    ")"
   ]
  },
  {
   "cell_type": "markdown",
   "metadata": {
    "id": "SnKel1yncqTf"
   },
   "source": [
    "Test 1: Data Size and Types\n",
    "---------------------------\n",
    "\n",
    "Check that all datasets contain the same number of images as classes.\n",
    "Check that all input images are `torch.tensor`s of size $3\\times224\\times224$ and of type `torch.float`.\n"
   ]
  },
  {
   "cell_type": "code",
   "execution_count": null,
   "metadata": {
    "colab": {
     "base_uri": "https://localhost:8080/"
    },
    "id": "hOFU2XurcqTg",
    "outputId": "76306fd5-b77b-412a-e133-b47584fdd201"
   },
   "outputs": [
    {
     "name": "stdout",
     "output_type": "stream",
     "text": [
      "len(trainset): 14\n"
     ]
    }
   ],
   "source": [
    "assert(len(trainset) == len(testset))\n",
    "print(\"len(trainset):\",len(trainset))\n",
    "for x,t in trainset + testset:    ### 为啥这里可以直接用加号？？？\n",
    "  assert type(x) == torch.Tensor\n",
    "  assert x.shape == (3,224,224)\n",
    "  assert x.dtype == torch.float"
   ]
  },
  {
   "cell_type": "markdown",
   "metadata": {
    "id": "fLRTK3PxcqTh"
   },
   "source": [
    "Task 3: Pre-trained Network\n",
    "---------------------------\n",
    "\n",
    "Instantiate a pre-trained network of type ResNet-18. \n",
    "Modify the network such that we extract the deep features from before the last fully-connected layer of the network.\n",
    "For your reference, the implementation of the `forward` function of ResNet networks (including ResNet-18) can be found here: https://github.com/pytorch/vision/blob/main/torchvision/models/resnet.py#L264\n",
    "\n",
    "You can also check if other networks perform better, especially deeper ResNet topologies.\n",
    "Be aware that our strategy to remove the last fully-connected layer might not work in other network topologies, only in residual networks.\n",
    "\n",
    "Please Note: while we modify the `forward` function, we will still use the `__call__` function to extract our features."
   ]
  },
  {
   "cell_type": "code",
   "execution_count": null,
   "metadata": {
    "colab": {
     "base_uri": "https://localhost:8080/"
    },
    "id": "NPul4lU7cqTh",
    "outputId": "9c9f7e33-02bb-46c7-c99d-2feac85bb91a"
   },
   "outputs": [
    {
     "name": "stdout",
     "output_type": "stream",
     "text": [
      "----------------------------------------------------------------\n",
      "        Layer (type)               Output Shape         Param #\n",
      "================================================================\n",
      "            Conv2d-1         [-1, 64, 112, 112]           9,408\n",
      "       BatchNorm2d-2         [-1, 64, 112, 112]             128\n",
      "              ReLU-3         [-1, 64, 112, 112]               0\n",
      "         MaxPool2d-4           [-1, 64, 56, 56]               0\n",
      "            Conv2d-5           [-1, 64, 56, 56]          36,864\n",
      "       BatchNorm2d-6           [-1, 64, 56, 56]             128\n",
      "              ReLU-7           [-1, 64, 56, 56]               0\n",
      "            Conv2d-8           [-1, 64, 56, 56]          36,864\n",
      "       BatchNorm2d-9           [-1, 64, 56, 56]             128\n",
      "             ReLU-10           [-1, 64, 56, 56]               0\n",
      "       BasicBlock-11           [-1, 64, 56, 56]               0\n",
      "           Conv2d-12           [-1, 64, 56, 56]          36,864\n",
      "      BatchNorm2d-13           [-1, 64, 56, 56]             128\n",
      "             ReLU-14           [-1, 64, 56, 56]               0\n",
      "           Conv2d-15           [-1, 64, 56, 56]          36,864\n",
      "      BatchNorm2d-16           [-1, 64, 56, 56]             128\n",
      "             ReLU-17           [-1, 64, 56, 56]               0\n",
      "       BasicBlock-18           [-1, 64, 56, 56]               0\n",
      "           Conv2d-19          [-1, 128, 28, 28]          73,728\n",
      "      BatchNorm2d-20          [-1, 128, 28, 28]             256\n",
      "             ReLU-21          [-1, 128, 28, 28]               0\n",
      "           Conv2d-22          [-1, 128, 28, 28]         147,456\n",
      "      BatchNorm2d-23          [-1, 128, 28, 28]             256\n",
      "           Conv2d-24          [-1, 128, 28, 28]           8,192\n",
      "      BatchNorm2d-25          [-1, 128, 28, 28]             256\n",
      "             ReLU-26          [-1, 128, 28, 28]               0\n",
      "       BasicBlock-27          [-1, 128, 28, 28]               0\n",
      "           Conv2d-28          [-1, 128, 28, 28]         147,456\n",
      "      BatchNorm2d-29          [-1, 128, 28, 28]             256\n",
      "             ReLU-30          [-1, 128, 28, 28]               0\n",
      "           Conv2d-31          [-1, 128, 28, 28]         147,456\n",
      "      BatchNorm2d-32          [-1, 128, 28, 28]             256\n",
      "             ReLU-33          [-1, 128, 28, 28]               0\n",
      "       BasicBlock-34          [-1, 128, 28, 28]               0\n",
      "           Conv2d-35          [-1, 256, 14, 14]         294,912\n",
      "      BatchNorm2d-36          [-1, 256, 14, 14]             512\n",
      "             ReLU-37          [-1, 256, 14, 14]               0\n",
      "           Conv2d-38          [-1, 256, 14, 14]         589,824\n",
      "      BatchNorm2d-39          [-1, 256, 14, 14]             512\n",
      "           Conv2d-40          [-1, 256, 14, 14]          32,768\n",
      "      BatchNorm2d-41          [-1, 256, 14, 14]             512\n",
      "             ReLU-42          [-1, 256, 14, 14]               0\n",
      "       BasicBlock-43          [-1, 256, 14, 14]               0\n",
      "           Conv2d-44          [-1, 256, 14, 14]         589,824\n",
      "      BatchNorm2d-45          [-1, 256, 14, 14]             512\n",
      "             ReLU-46          [-1, 256, 14, 14]               0\n",
      "           Conv2d-47          [-1, 256, 14, 14]         589,824\n",
      "      BatchNorm2d-48          [-1, 256, 14, 14]             512\n",
      "             ReLU-49          [-1, 256, 14, 14]               0\n",
      "       BasicBlock-50          [-1, 256, 14, 14]               0\n",
      "           Conv2d-51            [-1, 512, 7, 7]       1,179,648\n",
      "      BatchNorm2d-52            [-1, 512, 7, 7]           1,024\n",
      "             ReLU-53            [-1, 512, 7, 7]               0\n",
      "           Conv2d-54            [-1, 512, 7, 7]       2,359,296\n",
      "      BatchNorm2d-55            [-1, 512, 7, 7]           1,024\n",
      "           Conv2d-56            [-1, 512, 7, 7]         131,072\n",
      "      BatchNorm2d-57            [-1, 512, 7, 7]           1,024\n",
      "             ReLU-58            [-1, 512, 7, 7]               0\n",
      "       BasicBlock-59            [-1, 512, 7, 7]               0\n",
      "           Conv2d-60            [-1, 512, 7, 7]       2,359,296\n",
      "      BatchNorm2d-61            [-1, 512, 7, 7]           1,024\n",
      "             ReLU-62            [-1, 512, 7, 7]               0\n",
      "           Conv2d-63            [-1, 512, 7, 7]       2,359,296\n",
      "      BatchNorm2d-64            [-1, 512, 7, 7]           1,024\n",
      "             ReLU-65            [-1, 512, 7, 7]               0\n",
      "       BasicBlock-66            [-1, 512, 7, 7]               0\n",
      "AdaptiveAvgPool2d-67            [-1, 512, 1, 1]               0\n",
      "           Linear-68                 [-1, 1000]         513,000\n",
      "================================================================\n",
      "Total params: 11,689,512\n",
      "Trainable params: 11,689,512\n",
      "Non-trainable params: 0\n",
      "----------------------------------------------------------------\n",
      "Input size (MB): 0.57\n",
      "Forward/backward pass size (MB): 62.79\n",
      "Params size (MB): 44.59\n",
      "Estimated Total Size (MB): 107.96\n",
      "----------------------------------------------------------------\n",
      "----------------------------------------------------------------\n",
      "        Layer (type)               Output Shape         Param #\n",
      "================================================================\n",
      "            Conv2d-1         [-1, 64, 112, 112]           9,408\n",
      "       BatchNorm2d-2         [-1, 64, 112, 112]             128\n",
      "              ReLU-3         [-1, 64, 112, 112]               0\n",
      "         MaxPool2d-4           [-1, 64, 56, 56]               0\n",
      "            Conv2d-5           [-1, 64, 56, 56]          36,864\n",
      "       BatchNorm2d-6           [-1, 64, 56, 56]             128\n",
      "              ReLU-7           [-1, 64, 56, 56]               0\n",
      "            Conv2d-8           [-1, 64, 56, 56]          36,864\n",
      "       BatchNorm2d-9           [-1, 64, 56, 56]             128\n",
      "             ReLU-10           [-1, 64, 56, 56]               0\n",
      "       BasicBlock-11           [-1, 64, 56, 56]               0\n",
      "           Conv2d-12           [-1, 64, 56, 56]          36,864\n",
      "      BatchNorm2d-13           [-1, 64, 56, 56]             128\n",
      "             ReLU-14           [-1, 64, 56, 56]               0\n",
      "           Conv2d-15           [-1, 64, 56, 56]          36,864\n",
      "      BatchNorm2d-16           [-1, 64, 56, 56]             128\n",
      "             ReLU-17           [-1, 64, 56, 56]               0\n",
      "       BasicBlock-18           [-1, 64, 56, 56]               0\n",
      "           Conv2d-19          [-1, 128, 28, 28]          73,728\n",
      "      BatchNorm2d-20          [-1, 128, 28, 28]             256\n",
      "             ReLU-21          [-1, 128, 28, 28]               0\n",
      "           Conv2d-22          [-1, 128, 28, 28]         147,456\n",
      "      BatchNorm2d-23          [-1, 128, 28, 28]             256\n",
      "           Conv2d-24          [-1, 128, 28, 28]           8,192\n",
      "      BatchNorm2d-25          [-1, 128, 28, 28]             256\n",
      "             ReLU-26          [-1, 128, 28, 28]               0\n",
      "       BasicBlock-27          [-1, 128, 28, 28]               0\n",
      "           Conv2d-28          [-1, 128, 28, 28]         147,456\n",
      "      BatchNorm2d-29          [-1, 128, 28, 28]             256\n",
      "             ReLU-30          [-1, 128, 28, 28]               0\n",
      "           Conv2d-31          [-1, 128, 28, 28]         147,456\n",
      "      BatchNorm2d-32          [-1, 128, 28, 28]             256\n",
      "             ReLU-33          [-1, 128, 28, 28]               0\n",
      "       BasicBlock-34          [-1, 128, 28, 28]               0\n",
      "           Conv2d-35          [-1, 256, 14, 14]         294,912\n",
      "      BatchNorm2d-36          [-1, 256, 14, 14]             512\n",
      "             ReLU-37          [-1, 256, 14, 14]               0\n",
      "           Conv2d-38          [-1, 256, 14, 14]         589,824\n",
      "      BatchNorm2d-39          [-1, 256, 14, 14]             512\n",
      "           Conv2d-40          [-1, 256, 14, 14]          32,768\n",
      "      BatchNorm2d-41          [-1, 256, 14, 14]             512\n",
      "             ReLU-42          [-1, 256, 14, 14]               0\n",
      "       BasicBlock-43          [-1, 256, 14, 14]               0\n",
      "           Conv2d-44          [-1, 256, 14, 14]         589,824\n",
      "      BatchNorm2d-45          [-1, 256, 14, 14]             512\n",
      "             ReLU-46          [-1, 256, 14, 14]               0\n",
      "           Conv2d-47          [-1, 256, 14, 14]         589,824\n",
      "      BatchNorm2d-48          [-1, 256, 14, 14]             512\n",
      "             ReLU-49          [-1, 256, 14, 14]               0\n",
      "       BasicBlock-50          [-1, 256, 14, 14]               0\n",
      "           Conv2d-51            [-1, 512, 7, 7]       1,179,648\n",
      "      BatchNorm2d-52            [-1, 512, 7, 7]           1,024\n",
      "             ReLU-53            [-1, 512, 7, 7]               0\n",
      "           Conv2d-54            [-1, 512, 7, 7]       2,359,296\n",
      "      BatchNorm2d-55            [-1, 512, 7, 7]           1,024\n",
      "           Conv2d-56            [-1, 512, 7, 7]         131,072\n",
      "      BatchNorm2d-57            [-1, 512, 7, 7]           1,024\n",
      "             ReLU-58            [-1, 512, 7, 7]               0\n",
      "       BasicBlock-59            [-1, 512, 7, 7]               0\n",
      "           Conv2d-60            [-1, 512, 7, 7]       2,359,296\n",
      "      BatchNorm2d-61            [-1, 512, 7, 7]           1,024\n",
      "             ReLU-62            [-1, 512, 7, 7]               0\n",
      "           Conv2d-63            [-1, 512, 7, 7]       2,359,296\n",
      "      BatchNorm2d-64            [-1, 512, 7, 7]           1,024\n",
      "             ReLU-65            [-1, 512, 7, 7]               0\n",
      "       BasicBlock-66            [-1, 512, 7, 7]               0\n",
      "AdaptiveAvgPool2d-67            [-1, 512, 1, 1]               0\n",
      "================================================================\n",
      "Total params: 11,176,512\n",
      "Trainable params: 11,176,512\n",
      "Non-trainable params: 0\n",
      "----------------------------------------------------------------\n",
      "Input size (MB): 0.57\n",
      "Forward/backward pass size (MB): 62.79\n",
      "Params size (MB): 42.64\n",
      "Estimated Total Size (MB): 105.99\n",
      "----------------------------------------------------------------\n"
     ]
    }
   ],
   "source": [
    "# instantiate pre-trained resnet 18 network\n",
    "network = torchvision.models.resnet18(pretrained=True)\n",
    "network.eval() ### model 的 test 开关，例如 Dropouts Layers、BatchNorm Layers 等会进入评估模式\n",
    "from torchsummary import summary\n",
    "summary(network,(3,224,224))\n",
    "# make sure that deep features can be etxracted from the network\n",
    "  # network.children() -> resnet 的每一层\n",
    "  # network.children()[:-1] -> 去掉最后一层\n",
    "  # list( network.children()[:-1] ) -> 把他们的type变成 list\n",
    "  # *(list) 星号将 可迭代对象 扩展为 函数的参数列表 eg. a = [1,2,3] -> func(*a) == func(1,2,3)\n",
    "network = torch.nn.Sequential( *( list( network.children() )[:-1] ) )\n",
    "summary(network,(3,224,224))"
   ]
  },
  {
   "cell_type": "markdown",
   "metadata": {
    "id": "G-iJWlQXcqTi"
   },
   "source": [
    "Task 4: Extract Features\n",
    "------------------------\n",
    "\n",
    "Implement a function that extracts all features for a given dataset.\n",
    "Store the results in a dictionary: `target : feature`.\n",
    "Extract the features for the training and the test set.\n",
    "\n",
    "实现一个函数，提取给定数据集的所有特征。将结果存储在一个字典中：目标：特征。提取训练集和测试集的特征。"
   ]
  },
  {
   "cell_type": "code",
   "execution_count": null,
   "metadata": {
    "id": "Wj82D5gGcqTi"
   },
   "outputs": [],
   "source": [
    "def extract(network, dataset):\n",
    "  features = {}\n",
    "  with torch.no_grad(): # with torch.no_grad() 没有大的影响，但会运行更快一点\n",
    "    for x,t in dataset:\n",
    "      features[t] = network(x.unsqueeze(dim=0)) ### 模型接受4个参数 第一个是 batch-size 因为我们是逐个预测得，所以直接加一行啥都没有\n",
    "  return features\n",
    "\n",
    "train_features = extract(network,trainset)\n",
    "test_features = extract(network,testset)"
   ]
  },
  {
   "cell_type": "markdown",
   "metadata": {
    "id": "2b9Iq73-cqTi"
   },
   "source": [
    "Test 2: Check your Features\n",
    "---------------------------\n",
    "\n",
    "Check that all your features are of dimension 512 and of datatype `torch.float` (larger ResNet topologies might have 2048-dimensional features)."
   ]
  },
  {
   "cell_type": "code",
   "execution_count": null,
   "metadata": {
    "colab": {
     "base_uri": "https://localhost:8080/"
    },
    "id": "2k-dWTjncqTj",
    "outputId": "56e0ad4b-9c93-468f-8043-cf25353eab1d"
   },
   "outputs": [
    {
     "name": "stdout",
     "output_type": "stream",
     "text": [
      "torch.Size([1, 512, 1, 1])\n",
      "torch.Size([1, 512, 1, 1])\n",
      "torch.Size([1, 512, 1, 1])\n",
      "torch.Size([1, 512, 1, 1])\n",
      "torch.Size([1, 512, 1, 1])\n",
      "torch.Size([1, 512, 1, 1])\n",
      "torch.Size([1, 512, 1, 1])\n",
      "torch.Size([1, 512, 1, 1])\n",
      "torch.Size([1, 512, 1, 1])\n",
      "torch.Size([1, 512, 1, 1])\n",
      "torch.Size([1, 512, 1, 1])\n",
      "torch.Size([1, 512, 1, 1])\n",
      "torch.Size([1, 512, 1, 1])\n",
      "torch.Size([1, 512, 1, 1])\n"
     ]
    }
   ],
   "source": [
    "# check features\n",
    "for v in train_features.values():\n",
    "  print(v.shape)\n",
    "  assert v.shape[1] == 512\n",
    "  assert v.dtype == torch.float"
   ]
  },
  {
   "cell_type": "markdown",
   "metadata": {
    "id": "AomVyHpocqTj"
   },
   "source": [
    "Task 5: Similarity Computation\n",
    "------------------------------\n",
    "\n",
    "Iterate over all samples in the test set.\n",
    "Compute the cosine similarities to all samples in the training set.\n",
    "Store the similarity values in a matrix."
   ]
  },
  {
   "cell_type": "code",
   "execution_count": null,
   "metadata": {
    "id": "OselsibOcqTj"
   },
   "outputs": [],
   "source": [
    "O = len(testset)\n",
    "similarities = torch.empty((O, O))\n",
    "# compute similarities\n",
    "\n",
    "# https://pytorch.org/docs/stable/generated/torch.nn.CosineSimilarity.html\n",
    "# >>> cos = nn.CosineSimilarity(dim=1, eps=1e-6)\n",
    "# >>> output = cos(input1, input2)\n",
    "# dim (int, optional) – Dimension where cosine similarity is computed. Default: 1\n",
    "# eps (float, optional) – Small value to avoid division by zero. Default: 1e-8\n",
    "\n",
    "cos = torch.nn.CosineSimilarity() ###### 注意这里的CosineSimilarity()要带括号！！！\n",
    "for t, v in test_features.items():\n",
    "  for t2, v2 in train_features.items():\n",
    "    # similarities[t][t2] = torch.nn.CosineSimilarity()(v,v2)   ###### 这么写才对！！！！！\n",
    "    similarities[t][t2] = cos(v,v2)\n",
    "  # t = [0,1,2,3,4,5,6,7,8,9,10,11,12,13] 我也不知道这些 target 怎么来的，可能是dataset自动生成的"
   ]
  },
  {
   "cell_type": "markdown",
   "metadata": {
    "id": "zAS8cdWQcqTj"
   },
   "source": [
    "Task 6: Plot Similarity Values\n",
    "------------------------------\n",
    "\n",
    "Plot the similarity matrix as an image."
   ]
  },
  {
   "cell_type": "code",
   "execution_count": null,
   "metadata": {
    "colab": {
     "base_uri": "https://localhost:8080/",
     "height": 347
    },
    "id": "4IMBrZdWcqTk",
    "outputId": "0ff46e4c-d753-48ca-f056-8731fffb6460"
   },
   "outputs": [
    {
     "data": {
      "text/plain": [
       "Text(0, 0.5, 'Testing class')"
      ]
     },
     "execution_count": 188,
     "metadata": {},
     "output_type": "execute_result"
    },
    {
     "data": {
      "image/png": "[encoded data removed]",
      "text/plain": [
       "<Figure size 432x288 with 1 Axes>"
      ]
     },
     "metadata": {
      "needs_background": "light"
     },
     "output_type": "display_data"
    }
   ],
   "source": [
    "import matplotlib.pyplot as plt\n",
    "import numpy as np\n",
    "\n",
    "# plot similarities\n",
    "plt.imshow(similarities.detach().numpy())\n",
    "classnames = sorted(os.listdir('fruits/'))\n",
    "plt.xticks(np.arange(len(classnames)), classnames, rotation=90)\n",
    "plt.yticks(np.arange(len(classnames)), classnames)\n",
    "plt.xlabel('Training class')\n",
    "plt.ylabel('Testing class')"
   ]
  },
  {
   "cell_type": "markdown",
   "metadata": {
    "id": "kpB2SPqscqTk"
   },
   "source": [
    "Task 7: Classification Accuracy\n",
    "-------------------------------\n",
    "\n",
    "Compute the classification accuracy by checking if the class of highest similarity for a test sample is the correct class.\n",
    "\n",
    "通过检查测试样本中相似度最高的类是否为正确的类来计算分类的准确性。"
   ]
  },
  {
   "cell_type": "code",
   "execution_count": null,
   "metadata": {
    "colab": {
     "base_uri": "https://localhost:8080/"
    },
    "id": "9O36zlSScqTk",
    "outputId": "a9129379-a538-44fc-9608-706c07ec25b6"
   },
   "outputs": [
    {
     "name": "stdout",
     "output_type": "stream",
     "text": [
      "Accuracy is tensor(0.7857)\n"
     ]
    }
   ],
   "source": [
    "# compute accuracy for our small test set\n",
    "\n",
    "# correct = 0\n",
    "# for row in range(O):\n",
    "#   max_index = similarities[row].argmax()\n",
    "#   if (max_index.item() == row):\n",
    "#     correct += 1;\n",
    "# accuracy = correct / O\n",
    "\n",
    "same = similarities.argmax(dim=1) == torch.tensor(list(test_features.keys()))\n",
    "accuracy = sum(same) / len(same)\n",
    "print(\"Accuracy is\", accuracy)"
   ]
  },
  {
   "cell_type": "markdown",
   "metadata": {
    "id": "cYCmVcUdcqTk"
   },
   "source": [
    "Task 8: Find Misclassified Images and Classes\n",
    "----------------------------------------------\n",
    "\n",
    "Find the test samples that are incorrectly classified. \n",
    "Get the class names (not only indexes) and write the names of the test sample class as well as the class that it was classified as.\n",
    "\n",
    "What are the two most dissimilar classes?"
   ]
  },
  {
   "cell_type": "code",
   "execution_count": null,
   "metadata": {
    "colab": {
     "base_uri": "https://localhost:8080/"
    },
    "id": "OLFAOugQcqTk",
    "outputId": "d7b1ed29-ed33-4e3c-8058-284d317dfe5a"
   },
   "outputs": [
    {
     "name": "stdout",
     "output_type": "stream",
     "text": [
      "classnames: ['apple', 'banana', 'carrot', 'corn', 'garlic', 'ginger', 'kiwi', 'lemon', 'onion', 'orange', 'pear', 'potato', 'tomato', 'watermelon']\n",
      "tensor([ 0,  1,  2,  3,  4, 11,  6,  9,  4,  9, 10, 11, 12, 13])\n",
      "\n",
      "all misclassified test images and print their real and predicted class name:\n",
      "Real: ginger | predict: potato\n",
      "Real: lemon | predict: orange\n",
      "Real: onion | predict: garlic\n",
      "\n",
      "most dissimilar training and test class and print their names:\n",
      "potato | carrot\n"
     ]
    }
   ],
   "source": [
    "classnames = testset.classes ### 好像是根据 subfolder 寻找的，生成一个 list\n",
    "print(\"classnames:\",classnames)\n",
    "# find all misclassified test images and print their real and predicted class name\n",
    "real_keys = torch.tensor(list(test_features.keys()))\n",
    "pred_keys = similarities.argmax(dim=1) ### 为什么答案给 dim=0 ？？？给错了，就应该是 dim=1\n",
    "print(pred_keys)\n",
    "print(\"\\nall misclassified test images and print their real and predicted class name:\")\n",
    "for key in real_keys:\n",
    "  if key != pred_keys[key]:\n",
    "    print(\"Real:\",classnames[key],\"| predict:\",classnames[pred_keys[key]])\n",
    "\n",
    "\n",
    "# find the pair of most dissimilar training and test class and print their names\n",
    "\n",
    "print(\"\\nmost dissimilar training and test class and print their names:\")\n",
    "# 为什么矩阵的argmax返回的是一个整数？\n",
    "idx = similarities.argmin().item()\n",
    "\n",
    "row = idx // O\n",
    "col = idx % O\n",
    "print(classnames[row],\"|\",classnames[col])"
   ]
  },
  {
   "cell_type": "code",
   "execution_count": null,
   "metadata": {
    "colab": {
     "base_uri": "https://localhost:8080/"
    },
    "id": "p1fLmdSCQWIy",
    "outputId": "b6fe941b-4f87-4eea-a105-9b5775a1c287"
   },
   "outputs": [
    {
     "data": {
      "text/plain": [
       "tensor([ 0,  1,  2,  3,  4, 11,  6,  9,  4,  9, 10, 11, 12, 13])"
      ]
     },
     "execution_count": 225,
     "metadata": {},
     "output_type": "execute_result"
    }
   ],
   "source": [
    "similarities.argmax(dim=1)"
   ]
  },
  {
   "cell_type": "code",
   "execution_count": null,
   "metadata": {
    "id": "A4JwOWJYWV5o"
   },
   "outputs": [],
   "source": []
  }
 ],
 "metadata": {
  "colab": {
   "collapsed_sections": [],
   "name": "DL-Assignment07.ipynb",
   "provenance": []
  },
  "interpreter": {
   "hash": "2dd53f8ad749bca69f7250ce75eb4f0def59db5cf79075a9716322ffc58e8a2e"
  },
  "kernelspec": {
   "display_name": "Python 3 (ipykernel)",
   "language": "python",
   "name": "python3"
  },
  "language_info": {
   "codemirror_mode": {
    "name": "ipython",
    "version": 3
   },
   "file_extension": ".py",
   "mimetype": "text/x-python",
   "name": "python",
   "nbconvert_exporter": "python",
   "pygments_lexer": "ipython3",
   "version": "3.9.7"
  }
 },
 "nbformat": 4,
 "nbformat_minor": 1
}
