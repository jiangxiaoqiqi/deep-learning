{
 "cells": [
  {
   "cell_type": "markdown",
   "metadata": {},
   "source": [
    "Assignment 3: Universal Function Approximator\n",
    "=============================================\n",
    "\n",
    "\n",
    "Microsoft Forms Document: https://forms.office.com/r/dcZ3NADdya\n",
    "\n",
    "A two-layer network is defined by three steps:\n",
    "\n",
    "1. Compute the first layer, i.e., $\\vec a = \\mathbf W^{(1)} \\vec x$.\n",
    "2. Apply the activation function element-wise: $\\vec h = g(\\vec a)$\n",
    "3. Compute the network output: $y = \\vec w^{(2)}\\,^T\\vec h$.\n",
    "\n",
    "Task 1: Network Implementation\n",
    "------------------------------\n",
    "\n",
    "Implement a function that returns the network output for a given input $\\vec x$ and parameters $\\Theta=(\\mathbf W^{(1)}, \\vec w^{(2)})$. Remember that the input of the function $\\vec x = (1, x)^T$. Also remember to prepend $h_0=1$ in your implementation.\n",
    "\n",
    "<img src=\"two_layer_network.png\" width=\"50%\">"
   ]
  },
  {
   "cell_type": "code",
   "execution_count": 1,
   "metadata": {},
   "outputs": [],
   "source": [
    "import numpy as np\n",
    "import math\n",
    "\n",
    "np.random.seed(1)\n",
    "# 如果不按 filled 的版本，为何会出现 exp runtime error？？？\n",
    "\n",
    "#注意 h 是一个 vector\n",
    "def network(x, Theta):\n",
    "    W1, w2 = Theta\n",
    "    a = np.dot(W1,x)\n",
    "    # h = np.hstack(([1], 1 / (1+np.exp(-a))))\n",
    "    h = np.concatenate(([1], 1/(1 + np.exp(-a))))\n",
    "    y = np.dot(w2.T,h)\n",
    "    return y, h\n",
    "\n",
    "# np.insert(arr, obj, values, axis=None)\n",
    "\n",
    "# def network(x, Theta):\n",
    "#     W1, w2 = Theta\n",
    "#     a = W1.dot(x) \n",
    "#     h = 1/(1+np.exp(-a)) \n",
    "#     h = np.insert(h, 0, 1, axis=0) \n",
    "#     y = w2.dot(h) \n",
    "#     return y, h"
   ]
  },
  {
   "cell_type": "markdown",
   "metadata": {},
   "source": [
    "Test 1: Zero and One Weights\n",
    "----------------------------\n",
    "\n",
    "We select a specific number of hidden neurons and create the weights accordingly, using all zeros in the first layer and all ones in the second. What is the expected network output of this, for any $\\vec x$?"
   ]
  },
  {
   "cell_type": "code",
   "execution_count": 2,
   "metadata": {},
   "outputs": [
    {
     "name": "stdout",
     "output_type": "stream",
     "text": [
      "actual_y: 6.0\n",
      "actual_h: [1.  0.5 0.5 0.5 0.5 0.5 0.5 0.5 0.5 0.5 0.5]\n"
     ]
    }
   ],
   "source": [
    "\n",
    "\n",
    "K = 10\n",
    "x = np.random.uniform(-10, 10, np.random.randint(5,20))\n",
    "# 注意这里只是 vector 这里 D 意味着 x的future 个数 ， 也就是 第一层输入的个数 D\n",
    "# 而 K 代表后一层的神经元个数（不加bias）\n",
    "D = len(x)\n",
    "\n",
    "W1_zeros = np.zeros(shape=(K,D))\n",
    "w2_ones = np.ones(shape=(K+1,))\n",
    "\n",
    "# 注意！！！ h 是要自己加一个 1 的，而不是加一个 0.5\n",
    "expected_h = np.append(1, np.ones(shape=(K,1))*0.5)\n",
    "expected_y = np.array(0.5*(K)+1)\n",
    "\n",
    "actual_y, actual_h = network(x, (W1_zeros,w2_ones))\n",
    "\n",
    "# test network output\n",
    "print(\"actual_y:\",actual_y)\n",
    "print(\"actual_h:\",actual_h)\n",
    "\n",
    "assert expected_y == actual_y\n",
    "assert all(expected_h == actual_h)"
   ]
  },
  {
   "cell_type": "markdown",
   "metadata": {},
   "source": [
    "Task 2: Gradient Implementation\n",
    "-------------------------------\n",
    "We need to compute the gradient for a given dataset $X=\\{(\\vec x^{[n]}, t^{[n]})\\}$, which is composed of two parts, one for $\\mathbf W^{(1)}$ and one for $\\vec w^{(2)}$."
   ]
  },
  {
   "cell_type": "markdown",
   "metadata": {},
   "source": [
    "<img src=\"w2_gradient.png\" width=\"50%\"><img src=\"W1_gradient.png\" width=\"50%\">"
   ]
  },
  {
   "cell_type": "code",
   "execution_count": 3,
   "metadata": {},
   "outputs": [],
   "source": [
    "def gradient(X, Theta):\n",
    "    # split parameters for easier handling\n",
    "    W1, w2 = Theta\n",
    "  \n",
    "    # define gradient with respect to both parameters\n",
    "    dw2 = np.zeros(w2.shape)\n",
    "    dW1 = np.zeros(W1.shape)\n",
    "\n",
    "    # iterate over dataset\n",
    "    for x, t in X:\n",
    "        y, h = network(x, Theta)\n",
    "        dw2 += (y-t)*h\n",
    "        # 为什么 filled 的代码里面不考虑 bias，用 w2[1:] 和 h2[1:] ? 公式里难道不是写的 (K + 1) 吗？\n",
    "        # 公式写错了，如果 W1.shape = K x (D+1) 的话，就不应该考虑 K + 1\n",
    "        dW1 += np.outer( (y-t) * w2[1:] * h[1:] * (1-h[1:]), x )\n",
    "        \n",
    "    # anything else?\n",
    "    dw2 *= 2/len(X)\n",
    "    dW1 *= 2/len(X)\n",
    "  \n",
    "    return dW1, dw2"
   ]
  },
  {
   "cell_type": "markdown",
   "metadata": {},
   "source": [
    "Task 3: Gradient Descent\n",
    "------------------------\n",
    "\n",
    "Gradient descent is implemented as the repeated application of two steps:\n",
    "\n",
    "1. Compute the gradient of loss via the gradient function implemented in Task 2.\n",
    "2. Update the parameters according to a given learning rate $\\eta$.\n",
    "\n",
    "Implement a function that performs gradient descent for a given dataset, given initial parameters and a given learning rate $\\eta$."
   ]
  },
  {
   "cell_type": "code",
   "execution_count": 4,
   "metadata": {},
   "outputs": [],
   "source": [
    "# 不一样的地方\n",
    "# dTheta => W1,w2\n",
    "# return W1,w2 or Theta 有错\n",
    "# -= or W1 = W1 - eta * dTheta[0] √\n",
    "def gradient_descent(X, Theta, eta):\n",
    "    epochs = 10000\n",
    "    W1,w2 = Theta\n",
    "    \n",
    "    # perform iterative gradient descent\n",
    "    for epoch in range(epochs):\n",
    "        # compute the gradient\n",
    "        dTheta = gradient(X, Theta)\n",
    "\n",
    "        # update the parameters\n",
    "        W1 -= eta * dTheta[0]\n",
    "        w2 -= eta * dTheta[1]\n",
    "\n",
    "    # return optimized parameters\n",
    "    return W1,w2\n",
    "\n",
    "# def gradient_descent(X, Theta, eta):\n",
    "#   epochs = 10000\n",
    "#   W1, w2 = Theta\n",
    "#   # perform iterative gradient descent\n",
    "#   for epoch in range(epochs):\n",
    "#     # compute the gradient \n",
    "#     dTheta = gradient(X, Theta) \n",
    "#     # update the parameters \n",
    "#     W1 -= eta * dTheta[0] \n",
    "#     w2 -= eta * dTheta[1] \n",
    "    \n",
    "#   # return optimized parameters \n",
    "#   return Theta"
   ]
  },
  {
   "cell_type": "markdown",
   "metadata": {},
   "source": [
    "Task 4: Datasets\n",
    "----------------\n",
    "\n",
    "Create datasets $X_1$, $X_2$ and $X_3$ according to the functions and ranges defined in the assignment. Remember that $\\vec x = (1,x)^T$, and the structure of the dataset is a list of tuples: $\\{(\\vec x^{[n]}, t^{[n]})\\}$.\n",
    "\n",
    "<img src=\"task4.png\" width=\"80%\">"
   ]
  },
  {
   "cell_type": "code",
   "execution_count": 5,
   "metadata": {},
   "outputs": [
    {
     "name": "stdout",
     "output_type": "stream",
     "text": [
      "(array([ 1.        , -0.74690593]), -0.6209244316203576)\n"
     ]
    }
   ],
   "source": [
    "X1 = [ (np.array([1,x]), np.cos(3*x) ) for x in np.random.uniform(-2,2,50)  ]\n",
    "X2 = [ (np.array([1,x]), np.exp(-x**2) ) for x in np.random.uniform(-2,2,30) ]\n",
    "X3 = [ (np.array([1,x]), x**5 + 3*x**4 - 11*x**3 - 27*x**2 + 10*x + 64 ) for x in np.random.uniform(-4.5,3.5,200) ]\n",
    "# X1 = np.array([((np.array((1, x)),np.cos(3*x))) for x in np.random.uniform(-2,2,50)], dtype=object) \n",
    "# X2 = np.array([((np.array((1, x)),np.exp(-(x**2)))) for x in np.random.uniform(-2,2,30)], dtype=object) \n",
    "# X3 = np.array([(np.array((1, x)),x**5 + 3*x**4 - 11*x**3 - 27*x**2 + 10*x + 64) for x in np.random.uniform(-4.5,3.5,200)], dtype=object)\n",
    "print(X1[0])"
   ]
  },
  {
   "cell_type": "code",
   "execution_count": null,
   "metadata": {},
   "outputs": [],
   "source": []
  },
  {
   "cell_type": "markdown",
   "metadata": {},
   "source": [
    "Task 5: Define Number of Hidden Neurons\n",
    "---------------------------------------\n",
    "\n",
    "How many hidden neurons will we need to approximate the three different functions?"
   ]
  },
  {
   "cell_type": "code",
   "execution_count": 6,
   "metadata": {},
   "outputs": [],
   "source": [
    "# hidden neurons 是一个超参数，需要自己调\n",
    "K1 = 6\n",
    "K2 = 25\n",
    "K3 = 100"
   ]
  },
  {
   "cell_type": "markdown",
   "metadata": {},
   "source": [
    "Task 6: Random Parameters\n",
    "-------------------------\n",
    "Initialize three different sets of parameters for the given number of samples taken from Task 5."
   ]
  },
  {
   "cell_type": "code",
   "execution_count": 7,
   "metadata": {},
   "outputs": [],
   "source": [
    "Theta1 = ( np.random.uniform(-1,1,(K1,2)), np.random.uniform(-1,1,K1+1) )\n",
    "Theta2 = ( np.random.uniform(-1,1,(K2,2)), np.random.uniform(-1,1,K2+1) )\n",
    "Theta3 = ( np.random.uniform(-1,1,(K3,2)), np.random.uniform(-1,1,K3+1) )"
   ]
  },
  {
   "cell_type": "markdown",
   "metadata": {},
   "source": [
    "Task 7: Gradient Descent\n",
    "------------------------\n",
    "\n",
    "Call gradient descent for each dataset with their according parameters.\n",
    "\n",
    "WARNING! Depending on the implementation, this might run for several minutes!"
   ]
  },
  {
   "cell_type": "code",
   "execution_count": 8,
   "metadata": {},
   "outputs": [
    {
     "name": "stdout",
     "output_type": "stream",
     "text": [
      "[[-3.10819889 -4.83152659]\n",
      " [-2.10860687  1.51935377]\n",
      " [-0.16797778  0.65612313]\n",
      " [ 3.37728968 -2.19951207]\n",
      " [-4.06039653 -2.65251126]\n",
      " [ 2.80010309 -4.63652721]]\n",
      "[-0.22993605 -3.24184038  2.3357943   0.8067551  -3.57436341  4.72231472\n",
      "  4.3069793 ]\n"
     ]
    }
   ],
   "source": [
    "optimial_Theta1 = gradient_descent(X1, Theta1, 0.1)\n",
    "print(optimial_Theta1[0])\n",
    "print(optimial_Theta1[1])"
   ]
  },
  {
   "cell_type": "code",
   "execution_count": 9,
   "metadata": {},
   "outputs": [],
   "source": [
    "optimial_Theta2 = gradient_descent(X2, Theta2, 0.1)"
   ]
  },
  {
   "cell_type": "code",
   "execution_count": 10,
   "metadata": {},
   "outputs": [],
   "source": [
    "optimial_Theta3 = gradient_descent(X3, Theta3, 0.01)"
   ]
  },
  {
   "cell_type": "markdown",
   "metadata": {},
   "source": [
    "Task 8: Plotting Function\n",
    "-------------------------\n",
    "\n",
    "Implement a function that plots the output of the network as a line, as well as the training data."
   ]
  },
  {
   "cell_type": "code",
   "execution_count": 11,
   "metadata": {},
   "outputs": [],
   "source": [
    "from matplotlib import pyplot\n",
    "def plot(X, Theta, R):\n",
    "    # first, plot data samples\n",
    "    X_futures = [ x[0][1] for x in X]\n",
    "    t = [ x[1] for x in X]\n",
    "    pyplot.plot(X_futures, t, \"rx\", label=\"Data\")\n",
    "\n",
    "    # define equidistant points from R[0] to R[1] to evaluate the network\n",
    "    x = np.linspace(R[0],R[1],num=100)\n",
    "    # compute the network outputs for these values\n",
    "    y = [network([1,i],Theta)[0] for i in x]\n",
    "    # plot network approximation\n",
    "    pyplot.plot(x, y, \"k-\", label=\"network\")\n",
    "    pyplot.legend()"
   ]
  },
  {
   "cell_type": "markdown",
   "metadata": {},
   "source": [
    "Task 9: Plot Three Functions with their Data\n",
    "--------------------------------------------\n",
    "\n",
    "Call the function from Task 8 with three different datasets and their optimized parameters."
   ]
  },
  {
   "cell_type": "code",
   "execution_count": 12,
   "metadata": {},
   "outputs": [
    {
     "data": {
      "image/png": "[encoded data removed]",
      "text/plain": [
       "<Figure size 720x216 with 3 Axes>"
      ]
     },
     "metadata": {
      "needs_background": "light"
     },
     "output_type": "display_data"
    }
   ],
   "source": [
    "\n",
    "figure = pyplot.figure(figsize=(10,3))\n",
    "\n",
    "# plot first function\n",
    "pyplot.subplot(131)\n",
    "plot(X1, Theta1, (-3,3))\n",
    "\n",
    "# plot second function\n",
    "pyplot.subplot(132)\n",
    "plot(X2, Theta2, (-3,3))\n",
    "\n",
    "# plot third function\n",
    "pyplot.subplot(133)\n",
    "plot(X3, Theta3, (-5.5,4.5))"
   ]
  },
  {
   "cell_type": "code",
   "execution_count": null,
   "metadata": {},
   "outputs": [],
   "source": []
  },
  {
   "cell_type": "code",
   "execution_count": null,
   "metadata": {},
   "outputs": [],
   "source": []
  },
  {
   "cell_type": "code",
   "execution_count": null,
   "metadata": {},
   "outputs": [],
   "source": []
  }
 ],
 "metadata": {
  "interpreter": {
   "hash": "2dd53f8ad749bca69f7250ce75eb4f0def59db5cf79075a9716322ffc58e8a2e"
  },
  "kernelspec": {
   "display_name": "Python 3 (ipykernel)",
   "language": "python",
   "name": "python3"
  },
  "language_info": {
   "codemirror_mode": {
    "name": "ipython",
    "version": 3
   },
   "file_extension": ".py",
   "mimetype": "text/x-python",
   "name": "python",
   "nbconvert_exporter": "python",
   "pygments_lexer": "ipython3",
   "version": "3.9.13"
  }
 },
 "nbformat": 4,
 "nbformat_minor": 4
}
